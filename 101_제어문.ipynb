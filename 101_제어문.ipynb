{
  "nbformat": 4,
  "nbformat_minor": 0,
  "metadata": {
    "colab": {
      "provenance": [],
      "authorship_tag": "ABX9TyPP1u6EnOIMsOjxU5gXlhHm",
      "include_colab_link": true
    },
    "kernelspec": {
      "name": "python3",
      "display_name": "Python 3"
    },
    "language_info": {
      "name": "python"
    }
  },
  "cells": [
    {
      "cell_type": "markdown",
      "metadata": {
        "id": "view-in-github",
        "colab_type": "text"
      },
      "source": [
        "<a href=\"https://colab.research.google.com/github/qotkdals/python_demo/blob/master/101_%EC%A0%9C%EC%96%B4%EB%AC%B8.ipynb\" target=\"_parent\"><img src=\"https://colab.research.google.com/assets/colab-badge.svg\" alt=\"Open In Colab\"/></a>"
      ]
    },
    {
      "cell_type": "markdown",
      "source": [
        "# 비교연산자\n",
        "- <    >    <=    >=    ==    !=\n",
        "- 결과는 논리값 : True , False\n"
      ],
      "metadata": {
        "id": "_mNobKYcdY-Z"
      }
    },
    {
      "cell_type": "code",
      "execution_count": null,
      "metadata": {
        "colab": {
          "base_uri": "https://localhost:8080/"
        },
        "id": "clpMr_3occ54",
        "outputId": "c94f8c21-25f4-4ea8-903e-a4467bcb2c6e"
      },
      "outputs": [
        {
          "output_type": "stream",
          "name": "stdout",
          "text": [
            "False\n",
            "True\n",
            "False\n",
            "True\n"
          ]
        }
      ],
      "source": [
        "print(3 < 2)\n",
        "print(3 > 2)\n",
        "print(3 == 2)\n",
        "print(3 != 2)"
      ]
    },
    {
      "cell_type": "markdown",
      "source": [
        "# 논리연산자\n",
        " - #&       |        ^참고\n",
        " - and      or         not"
      ],
      "metadata": {
        "id": "iOHEXOGTeGJ4"
      }
    },
    {
      "cell_type": "code",
      "source": [
        "#print(True & True)\n",
        "print(True and True)\n",
        "#print(True & False)\n",
        "#print(True | True)\n",
        "print(True or True)\n",
        "#print(True | False)\n",
        "print(not True)"
      ],
      "metadata": {
        "colab": {
          "base_uri": "https://localhost:8080/"
        },
        "id": "4uDIbKRkeIin",
        "outputId": "59b161c3-0c48-4591-be74-718d4cbe7708"
      },
      "execution_count": null,
      "outputs": [
        {
          "output_type": "stream",
          "name": "stdout",
          "text": [
            "True\n",
            "True\n",
            "False\n",
            "True\n",
            "True\n",
            "True\n",
            "False\n"
          ]
        }
      ]
    },
    {
      "cell_type": "markdown",
      "source": [
        "# existance\n",
        "- python에서 조건은 존재론(existance)적이다 => truthy, falsey\n",
        "- c ,JAVA 는 불가\n",
        "- SCRIPT, Python 가능"
      ],
      "metadata": {
        "id": "40zLpC9ifq5r"
      }
    },
    {
      "cell_type": "code",
      "source": [
        "# 0은 숫자가 없는 것과 같음 ->falsy\n",
        "a = 0.0\n",
        "if a:# python만 가능.조건문이 들어가야하지만 값이 들어가면 존재론으로 변한다\n",
        "  print('yes')#따로 중괄호로 묶지는 않지만 줄은 맞춰줘야한다\n",
        "else :\n",
        "  print('No')"
      ],
      "metadata": {
        "colab": {
          "base_uri": "https://localhost:8080/"
        },
        "id": "G3-v_g2bfnBo",
        "outputId": "312a75a4-2e00-4edc-be2d-b97ad9713f80"
      },
      "execution_count": null,
      "outputs": [
        {
          "output_type": "stream",
          "name": "stdout",
          "text": [
            "No\n"
          ]
        }
      ]
    },
    {
      "cell_type": "code",
      "source": [
        "# None은 숫자가 없는 것과 같음 -> falsy or falsey(문법차이)\n",
        "a = None\n",
        "if a:\n",
        "  print('Yes')\n",
        "else:\n",
        "  print('No')"
      ],
      "metadata": {
        "colab": {
          "base_uri": "https://localhost:8080/"
        },
        "id": "H5Z-ot5wic1o",
        "outputId": "db1adbce-865d-4cf9-e1b1-bc2b8e30ed8f"
      },
      "execution_count": null,
      "outputs": [
        {
          "output_type": "stream",
          "name": "stdout",
          "text": [
            "No\n"
          ]
        }
      ]
    },
    {
      "cell_type": "code",
      "source": [
        "# 비어있는 dict는 없는것과 같음 -> falsey ,boolean과 다른값\n",
        "a = {}\n",
        "if a :\n",
        "  print('Yes')\n",
        "else:\n",
        "  print('No')"
      ],
      "metadata": {
        "colab": {
          "base_uri": "https://localhost:8080/"
        },
        "id": "Z-W_2Xesit9H",
        "outputId": "79b5714b-6600-47f4-b5e3-0952eb24eec3"
      },
      "execution_count": null,
      "outputs": [
        {
          "output_type": "stream",
          "name": "stdout",
          "text": [
            "No\n"
          ]
        }
      ]
    },
    {
      "cell_type": "code",
      "source": [
        "#존재론적 이므로 값이 없는것으로 나옴\n",
        "a = int()\n",
        "b = float()\n",
        "c = list()\n",
        "d = tuple()\n",
        "e = str()\n",
        "f = set()\n",
        "g = frozenset()\n",
        "\n",
        "if g :\n",
        "  print('Yes')\n",
        "else:\n",
        "  print('No')\n"
      ],
      "metadata": {
        "colab": {
          "base_uri": "https://localhost:8080/"
        },
        "id": "LQbatN7bjAl-",
        "outputId": "d6699054-2933-4be0-e94a-427135287029"
      },
      "execution_count": null,
      "outputs": [
        {
          "output_type": "stream",
          "name": "stdout",
          "text": [
            "No\n"
          ]
        }
      ]
    },
    {
      "cell_type": "code",
      "source": [
        "#or 이므로 둘중하나라도 True면 True값이 나옴\n",
        "3<2 or 4<5"
      ],
      "metadata": {
        "colab": {
          "base_uri": "https://localhost:8080/"
        },
        "id": "dG07gHPTjaTX",
        "outputId": "239d285a-85c3-45db-ba60-f8d30d3f15ed"
      },
      "execution_count": null,
      "outputs": [
        {
          "output_type": "execute_result",
          "data": {
            "text/plain": [
              "True"
            ]
          },
          "metadata": {},
          "execution_count": 20
        }
      ]
    },
    {
      "cell_type": "code",
      "source": [
        "# and는 앞이 True이면 뒤에 값이 반환한다.\n",
        "3 and 4"
      ],
      "metadata": {
        "colab": {
          "base_uri": "https://localhost:8080/"
        },
        "id": "eHxiDsIgjpO_",
        "outputId": "c5e0dfe4-d661-4dfe-c35a-c9d326463444"
      },
      "execution_count": null,
      "outputs": [
        {
          "output_type": "execute_result",
          "data": {
            "text/plain": [
              "4"
            ]
          },
          "metadata": {},
          "execution_count": 21
        }
      ]
    },
    {
      "cell_type": "code",
      "source": [
        "#결정권은 뒤에 있음\n",
        "3  and  0"
      ],
      "metadata": {
        "colab": {
          "base_uri": "https://localhost:8080/"
        },
        "id": "S_bQA-Xejwce",
        "outputId": "cac95d8e-fbc6-4250-ad89-55ea07ea24a2"
      },
      "execution_count": null,
      "outputs": [
        {
          "output_type": "execute_result",
          "data": {
            "text/plain": [
              "0"
            ]
          },
          "metadata": {},
          "execution_count": 22
        }
      ]
    },
    {
      "cell_type": "code",
      "source": [
        "#앞에가 존재하지 않으면 뒤에 결정권이 있더라도 실행자체를 안함=앞에값을 반환\n",
        "# 비어있는 문자열은 없는 것과 같음 -> falsey\n",
        "0  and  3"
      ],
      "metadata": {
        "colab": {
          "base_uri": "https://localhost:8080/"
        },
        "id": "WYmozu44kPcG",
        "outputId": "3cbde8e1-15f5-4a59-d208-441eb5ea14e0"
      },
      "execution_count": null,
      "outputs": [
        {
          "output_type": "execute_result",
          "data": {
            "text/plain": [
              "0"
            ]
          },
          "metadata": {},
          "execution_count": 23
        }
      ]
    },
    {
      "cell_type": "code",
      "source": [
        "'' and 4"
      ],
      "metadata": {
        "colab": {
          "base_uri": "https://localhost:8080/",
          "height": 35
        },
        "id": "L0YdqmPOki8Y",
        "outputId": "e1b55d24-a774-4b06-f1fa-e6c2b772b50c"
      },
      "execution_count": null,
      "outputs": [
        {
          "output_type": "execute_result",
          "data": {
            "text/plain": [
              "''"
            ],
            "application/vnd.google.colaboratory.intrinsic+json": {
              "type": "string"
            }
          },
          "metadata": {},
          "execution_count": 25
        }
      ]
    },
    {
      "cell_type": "code",
      "source": [
        "# 앞이 True이면 앞의 값이 리턴된다.\n",
        "1 or 4"
      ],
      "metadata": {
        "colab": {
          "base_uri": "https://localhost:8080/"
        },
        "id": "SGx5t8lro6v2",
        "outputId": "f0ecc651-1a78-4708-ffb5-399c12d2d41f"
      },
      "execution_count": null,
      "outputs": [
        {
          "output_type": "execute_result",
          "data": {
            "text/plain": [
              "1"
            ]
          },
          "metadata": {},
          "execution_count": 26
        }
      ]
    },
    {
      "cell_type": "code",
      "source": [
        "# 앞이 False이면 뒤의 값이 리턴된다.\n",
        "'' or 4"
      ],
      "metadata": {
        "colab": {
          "base_uri": "https://localhost:8080/"
        },
        "id": "FyIcYxdzpHmV",
        "outputId": "17016cea-a226-48c8-dc82-53179e52b3f4"
      },
      "execution_count": null,
      "outputs": [
        {
          "output_type": "execute_result",
          "data": {
            "text/plain": [
              "4"
            ]
          },
          "metadata": {},
          "execution_count": 31
        }
      ]
    },
    {
      "cell_type": "markdown",
      "source": [
        "# 제어문(statement controller)\n",
        "- 문장의 흐름을 제어해 준다.\n",
        "- 조건문. 반복문\n",
        "- 조건문\n",
        "  - if~else\n",
        "- 반복문\n",
        "  - for ~ in\n",
        "  - while\n",
        "\n",
        "- break, countinue"
      ],
      "metadata": {
        "id": "wqHRpPbhpnNX"
      }
    },
    {
      "cell_type": "markdown",
      "source": [
        "```\n",
        "if 조건식 :\n",
        "   수행할 문장\n",
        "else:\n",
        "   수행할 문장\n",
        "```"
      ],
      "metadata": {
        "id": "-6SfktwCrDCG"
      }
    },
    {
      "cell_type": "code",
      "source": [
        "a = 8\n",
        "if a>5 :\n",
        "  print('OK')\n",
        "else:\n",
        "  print('Fail')"
      ],
      "metadata": {
        "colab": {
          "base_uri": "https://localhost:8080/"
        },
        "id": "bOGYD83ZpYSm",
        "outputId": "a82f4d52-bc4e-4317-8b29-9aa4b655ee9e"
      },
      "execution_count": null,
      "outputs": [
        {
          "output_type": "stream",
          "name": "stdout",
          "text": [
            "OK\n"
          ]
        }
      ]
    },
    {
      "cell_type": "code",
      "source": [
        " #산술연산자와 비교연산자가 나올때 산술 연산자 우선수행\n",
        "a = 8\n",
        "if a%2==0 :\n",
        "  print('even')#짝수\n",
        "else:\n",
        "  print('odd')#홀수\n"
      ],
      "metadata": {
        "colab": {
          "base_uri": "https://localhost:8080/"
        },
        "id": "AH-1AAGZrpcf",
        "outputId": "6a3fee52-ead4-451f-d7b4-c797f54ff487"
      },
      "execution_count": null,
      "outputs": [
        {
          "output_type": "stream",
          "name": "stdout",
          "text": [
            "even\n"
          ]
        }
      ]
    },
    {
      "cell_type": "code",
      "source": [
        "#조건을 만족하면 else는 생략가능\n",
        "name = '홍길동'\n",
        "if name :\n",
        "  print(name + '님')"
      ],
      "metadata": {
        "colab": {
          "base_uri": "https://localhost:8080/"
        },
        "id": "ljdhCOnysUde",
        "outputId": "59334870-76cc-4531-efa7-ba20cae871dd"
      },
      "execution_count": null,
      "outputs": [
        {
          "output_type": "stream",
          "name": "stdout",
          "text": [
            "홍길동님\n"
          ]
        }
      ]
    },
    {
      "cell_type": "code",
      "source": [
        "# if 조건에 문장을 사용할 수 없다.\n",
        "#if a=4:#-error\n",
        "   #print (a)"
      ],
      "metadata": {
        "id": "p1L-lQ2rsubn"
      },
      "execution_count": null,
      "outputs": []
    },
    {
      "cell_type": "code",
      "source": [
        "# 80이상이면 '상', 80미만 60이상이면 '중', 60미만이면 '하'\n",
        "# 다중 if 문을 사용할때는 else if를 ->  elif\n",
        "a = 65\n",
        "if a>=80 :\n",
        "  print('상')\n",
        "elif a>=60 :\n",
        "  print('중')\n",
        "else:\n",
        "  print('하')\n"
      ],
      "metadata": {
        "colab": {
          "base_uri": "https://localhost:8080/"
        },
        "id": "Hsu-hL_stNeV",
        "outputId": "c1ac7a1f-8579-41e5-ad1a-1654cb5041b2"
      },
      "execution_count": null,
      "outputs": [
        {
          "output_type": "stream",
          "name": "stdout",
          "text": [
            "중\n"
          ]
        }
      ]
    },
    {
      "cell_type": "code",
      "source": [
        "a = 65\n",
        "if a >=80:\n",
        "   print('상')\n",
        "else:\n",
        " if a>=60:\n",
        "   print('중')\n",
        " else:\n",
        "   print('하')\n"
      ],
      "metadata": {
        "colab": {
          "base_uri": "https://localhost:8080/"
        },
        "id": "wpgyqu4Juiqm",
        "outputId": "88afb9e7-2cc0-4065-ee08-62197f5b7ccb"
      },
      "execution_count": null,
      "outputs": [
        {
          "output_type": "stream",
          "name": "stdout",
          "text": [
            "중\n"
          ]
        }
      ]
    },
    {
      "cell_type": "code",
      "source": [
        "a = 65\n",
        "\n",
        "if a >= 60:\n",
        "  if a >=80:\n",
        "    print('상')\n",
        "  else:\n",
        "    print('중')\n",
        "else:\n",
        "    print('하')\n"
      ],
      "metadata": {
        "colab": {
          "base_uri": "https://localhost:8080/"
        },
        "id": "RRvZnOJ3vREV",
        "outputId": "a91c89c4-816c-4f85-cc8a-5965247c193b"
      },
      "execution_count": null,
      "outputs": [
        {
          "output_type": "stream",
          "name": "stdout",
          "text": [
            "중\n"
          ]
        }
      ]
    },
    {
      "cell_type": "code",
      "source": [],
      "metadata": {
        "id": "jp3VQVY_2MMU"
      },
      "execution_count": null,
      "outputs": []
    },
    {
      "cell_type": "code",
      "source": [
        "member = True\n",
        "grade = 'A' # 'S' 50, 'A' 30\n",
        "point = 0\n",
        "\n",
        "if member :\n",
        "  #대체 문장\n",
        "  #pass 안쓸시 error=expected an indented block after 'if' statement on line 4\n",
        "  if grade == 'S':\n",
        "     point = 50\n",
        "  else:\n",
        "     point = 30\n",
        "\n",
        "else:\n",
        "  point=0\n",
        "\n",
        "print(point)\n",
        "\n"
      ],
      "metadata": {
        "colab": {
          "base_uri": "https://localhost:8080/"
        },
        "id": "p9CI2fFcwOCu",
        "outputId": "4d0bc9a8-d803-4839-d8fd-60ced133f62a"
      },
      "execution_count": null,
      "outputs": [
        {
          "output_type": "stream",
          "name": "stdout",
          "text": [
            "30\n"
          ]
        }
      ]
    },
    {
      "cell_type": "code",
      "source": [
        "#input입력값은 스트링으로 시작\n",
        "#int로 정수값으로 변환 가능\n",
        "age = int(input('나이:'))\n",
        "gender = input('성별[남,여]:')\n",
        "\n",
        "if gender =='남':\n",
        "  if age >= 20 :\n",
        "     print('성인 남성입니다.')\n",
        "  else:\n",
        "     print('청소년 남성입니다.')\n",
        "else:\n",
        "  if age >=20 :\n",
        "     print('성인 여성입니다.')\n",
        "  else:\n",
        "     print('청소년 여성입니다.')\n"
      ],
      "metadata": {
        "colab": {
          "base_uri": "https://localhost:8080/"
        },
        "id": "yG3SqPdp0npF",
        "outputId": "36664e2e-e50a-4ac8-bbcd-de514a307c36"
      },
      "execution_count": null,
      "outputs": [
        {
          "output_type": "stream",
          "name": "stdout",
          "text": [
            "나이:19\n",
            "성별[남,여]:남\n",
            "청소년 남성입니다.\n"
          ]
        }
      ]
    },
    {
      "cell_type": "markdown",
      "source": [
        "* 퀴즈\n",
        "1. 놀이기구에 키가 140cm이상이고,\n",
        "  나이가 8세 이상인 사람만 탑승한다고 가정합니다.\n",
        "2. 먼저 키(height)와 나이(age)를 입력받으세요.\n",
        "3. 조건문 if~else를 사용하여 2개의 조건이 모두 참일 경우\n",
        "  \"놀이기구에 탑승할 수 있습니다.\"를 출력하세요.\n",
        "4. 위 조건이 거짓일 경우 \"놀이기구에 탑승할 수 없습니다.\"\n",
        "    를 출력하세요.\n",
        "5. 조건식과는 별개로 \"오늘 하루 즐거운 시간되세요!\"\n",
        "   를 출력하세요.\n",
        "'''\n"
      ],
      "metadata": {
        "id": "GJcP1lHI2wtn"
      }
    },
    {
      "cell_type": "code",
      "source": [
        "height = int(input('키:'))\n",
        "age = int(input('나이:'))\n",
        "\n",
        "if age >=8 :\n",
        "   if height >= 140 :\n",
        "     print( \"놀이기구에 탑승할 수 있습니다.\")\n",
        "   else:\n",
        "     print(\"놀이기구에 탑승할 수 없습니다.\")\n",
        "else:\n",
        "     print(\"놀이기구에 탑승할 수 없습니다.\")\n",
        "\n",
        "print(\"오늘 하루 즐거운 시간되세요!\")"
      ],
      "metadata": {
        "colab": {
          "base_uri": "https://localhost:8080/"
        },
        "id": "motj_Ru82x5t",
        "outputId": "27edbf48-8d6d-4a5d-b5fe-8db51554a448"
      },
      "execution_count": null,
      "outputs": [
        {
          "output_type": "stream",
          "name": "stdout",
          "text": [
            "키:8\n",
            "나이:140\n",
            "놀이기구에 탑승할 수 없습니다.\n",
            "오늘 하루 즐거운 시간되세요!\n"
          ]
        }
      ]
    },
    {
      "cell_type": "code",
      "source": [
        "height = int(input('키:'))\n",
        "age = int(input('나이:'))\n",
        "\n",
        "if height >=140 and age >=8 :\n",
        "  print(\"놀이기구에 탑승할 수 있습니다.\")\n",
        "else:\n",
        "  print(\"놀이기구에 탑승할 수 없습니다.\")\n",
        "\n",
        "\n",
        "print( \"오늘 하루 즐거운 시간되세요!\")"
      ],
      "metadata": {
        "colab": {
          "base_uri": "https://localhost:8080/"
        },
        "id": "DkB7A3s-58Oe",
        "outputId": "a3a16027-c24c-460b-a66a-3e1a4f586e47"
      },
      "execution_count": null,
      "outputs": [
        {
          "output_type": "stream",
          "name": "stdout",
          "text": [
            "키:8\n",
            "나이:140\n",
            "놀이기구에 탑승할 수 없습니다.\n",
            "오늘 하루 즐거운 시간되세요!\n"
          ]
        }
      ]
    },
    {
      "cell_type": "markdown",
      "source": [
        "'''\n",
        "[조건]\n",
        "1. 18세 미만은 이 영화를 볼 수 없다\n",
        "2. 18세 이상 59세 이하의 손님은 8000원\n",
        "3. 60세 이상의 손님은 5000원\n",
        "4. 포인트카드를 가지고 있고 지금까지 5편의 영화를 본 손님은 5000원\n",
        "\n",
        "18세 미만이면 '티켓을 팔 수 없다'를 기술한 부분이다.\n",
        "60세 이상이거나 포인트가 있고 5편 관람한 할인 대상자는 '티켓은 5000원입니다.\n",
        "그외는 '티켓은 8000원입니다'로 출력하는 프로그램을 구현하시오.\n",
        "\n",
        "[테스트1]\n",
        "age=35\n",
        "point_card =True\n",
        "count=5\n",
        "\n",
        "출력결과 : 티켓은 5000원입니다\n",
        "\n",
        "[테스트2]\n",
        "age=35\n",
        "point_card =True\n",
        "count=5\n",
        "\n",
        "출력결과 : 티켓을 판매할 수 없습니다\n",
        "\n",
        "[테스트3]\n",
        "age=35\n",
        "point_card =True\n",
        "count=3\n",
        "\n",
        "출력결과: 티켓은 8000원입니다\n",
        "'''"
      ],
      "metadata": {
        "id": "E_K-3xcz60C0"
      }
    },
    {
      "cell_type": "code",
      "source": [
        "age = int(input('나이:'))\n",
        "point_card = bool(input('포인트 소지여부:'))#출력값이 True False이므로\n",
        "count = int(input('영화 관람 티켓 갯수:'))\n",
        "\n",
        "if age < 18:\n",
        "     print('티켓을 판매할 수 없습니다')\n",
        "elif age >=60 or (point_card and count==5):\n",
        "     print('티켓은 5000원입니다')\n",
        "else:\n",
        "     print('티켓은 8000원입니다')\n",
        "\n",
        "\n",
        "\n",
        "\n",
        "#if a >=80:\n",
        "   #print('상')\n",
        "#else:\n",
        " #if a>=60:\n",
        "  # print('중')\n",
        " #else:\n",
        "   #print('하')\n"
      ],
      "metadata": {
        "colab": {
          "base_uri": "https://localhost:8080/"
        },
        "id": "XKYPLH5w6rv9",
        "outputId": "cbf5b999-5e91-4da7-85b4-2a70b69096b4"
      },
      "execution_count": null,
      "outputs": [
        {
          "output_type": "stream",
          "name": "stdout",
          "text": [
            "나이:65\n",
            "포인트 소지여부:5\n",
            "영화 관람 티켓 갯수:5\n",
            "티켓은 5000원입니다\n"
          ]
        }
      ]
    },
    {
      "cell_type": "code",
      "source": [
        "import sys\n",
        "year = int(input('year:'))\n",
        "month = int(input('month:'))\n",
        "end_day_31 = [1,3,5,7,8,10,12]\n",
        "end_day_30 = [4,6,9,11]\n",
        "end = 28\n",
        "check = ''\n",
        "\n",
        "if not(month >=1 and month <=12):\n",
        "  print('월은 1부터 12까지만 입력해 주세요.')\n",
        "  sys.exit()#현재시스템을 강제로 종료시켜준다-아래는 실행시켜주지않는다.-사용하려면 사전에 import해서 사용\n",
        "  #return #을주면 해당값이 아닌값을 리턴 하지않는다.다른언어 return:\n",
        "\n",
        "\n",
        "\n",
        "#if month==4 or month==6 or month==9 or month ==11: 도 가능\n",
        "if month in end_day_30:\n",
        "   day=30\n",
        "else:\n",
        "   day=31\n",
        "# 윤년 : 연도를 4로 나누어 떨어지고 100으로 나누어 떨어지면 안되거나\n",
        "#              400로 나누어 떨어지면 된다.\n",
        "if (year%4==0 and year%100!=0) or year%400==0 :\n",
        "\n",
        "  #print('{} 년도는 윤년'.format(year))\n",
        "  check = '윤년'\n",
        "  if month ==2:\n",
        "    day = 29\n",
        "\n",
        "  #elif month==4 or month==6 or month==9 or month ==11\n",
        "else:\n",
        "  #print('{}년도는 평년'.format(year))\n",
        "  check = '평년'\n",
        "  if month ==2:\n",
        "    day = 28\n",
        "\n",
        "print('{}년도 {}월은 {}. 마지막일 {}일입니다.'.format(year, month, check, day))#{}안에 공백 x, 크기일정\n"
      ],
      "metadata": {
        "colab": {
          "base_uri": "https://localhost:8080/"
        },
        "id": "-Y97i7ApDxCl",
        "outputId": "ddedd65e-6886-4068-9efd-48d48dc929fc"
      },
      "execution_count": null,
      "outputs": [
        {
          "output_type": "stream",
          "name": "stdout",
          "text": [
            "year:2016\n",
            "month:2\n",
            "2016년도 2월은 윤년. 마지막일 29일입니다.\n"
          ]
        }
      ]
    },
    {
      "cell_type": "markdown",
      "source": [
        "## 반복문 : while\n",
        "반복문에서 else는 반복문이 완벽하게 끝났을 때 실행된다.   \n",
        "대부분의 프로그래밍 언어는 while과 for을 지원한다.\n",
        "else\n",
        " - if~else\n",
        " - try - except - else -finally\n",
        " - while - else (python만 while~else)=else영역은 생략가능\n",
        "\n",
        "\n",
        "```\n",
        "while 조건식:\n",
        "  수행할 문장\n",
        "else:\n",
        "  수행할 문장\n",
        "```\n"
      ],
      "metadata": {
        "id": "6s-vvjTJNEhD"
      }
    },
    {
      "cell_type": "code",
      "source": [
        " # while문이 완벽히 돌았으므로 end가 출력.\n",
        " #수식은 위에서 아래로\n",
        " a = 10\n",
        " while a>5 :\n",
        "  a -= 1 # a = a - 1 #(6,7,8,9,10)-1(리턴)\n",
        "  print(a)\n",
        " else:\n",
        "  print('end')\n"
      ],
      "metadata": {
        "id": "GH0MHDBUNb0-",
        "colab": {
          "base_uri": "https://localhost:8080/"
        },
        "outputId": "7c42ba58-8bca-41dd-d347-13a20b673b7d"
      },
      "execution_count": null,
      "outputs": [
        {
          "output_type": "stream",
          "name": "stdout",
          "text": [
            "9\n",
            "8\n",
            "7\n",
            "6\n",
            "5\n",
            "end\n"
          ]
        }
      ]
    },
    {
      "cell_type": "code",
      "source": [
        " # while문을 강제적으로 빠져나왔기 때문에 else영역을 실행하지 않는다.(break에서 멈춤)\n",
        " a = 10\n",
        " while a>5 :\n",
        "  a -= 1 # a = a - 1 #(6,7,8,9,10)-1->(리턴)\n",
        "  print(a)\n",
        "  if a==5:\n",
        "    break #반복문을 강제적으로 빠져나올때 사용한다. 즉 반복문을 중단시킨다\n",
        " else:\n",
        "  print('end')"
      ],
      "metadata": {
        "colab": {
          "base_uri": "https://localhost:8080/"
        },
        "id": "Z8w6gVoXhgj3",
        "outputId": "b785bcbb-aa68-456d-a120-511d0be43bc7"
      },
      "execution_count": null,
      "outputs": [
        {
          "output_type": "stream",
          "name": "stdout",
          "text": [
            "9\n",
            "8\n",
            "7\n",
            "6\n",
            "5\n"
          ]
        }
      ]
    },
    {
      "cell_type": "code",
      "source": [
        "# continue는 다음 루프(조건식)로 바로 넘어간다.\n",
        "# 반복문을 중단하지는 않으므로 else문이 실행된다.\n",
        "a = 10\n",
        "while a > 5:\n",
        "  a -= 1\n",
        "  if a %2 == 0 :\n",
        "    continue#리턴하다가 6이나오면 반복문 조건식으로 이동\n",
        "  print(a)\n",
        "else:\n",
        "  print('end')"
      ],
      "metadata": {
        "colab": {
          "base_uri": "https://localhost:8080/"
        },
        "id": "wpvdfyV4i5xH",
        "outputId": "19b73d9e-395c-4daa-c209-0e27790ee2c8"
      },
      "execution_count": null,
      "outputs": [
        {
          "output_type": "stream",
          "name": "stdout",
          "text": [
            "9\n",
            "7\n",
            "5\n",
            "end\n"
          ]
        }
      ]
    },
    {
      "cell_type": "code",
      "source": [
        "# 1부터 10까지 출력하는 프로그램\n",
        "a = 1\n",
        "while a <= 10:\n",
        "  print(a)\n",
        "  a+=1\n",
        "  #a++ =python에서 불가 a= a+1, a+=1\n",
        "\n"
      ],
      "metadata": {
        "colab": {
          "base_uri": "https://localhost:8080/"
        },
        "id": "5-E1O8wQk_8-",
        "outputId": "d912d42f-4c91-4cd8-e7b9-d2a1afbf8d8a"
      },
      "execution_count": null,
      "outputs": [
        {
          "output_type": "stream",
          "name": "stdout",
          "text": [
            "1\n",
            "2\n",
            "3\n",
            "4\n",
            "5\n",
            "6\n",
            "7\n",
            "8\n",
            "9\n",
            "10\n"
          ]
        }
      ]
    },
    {
      "cell_type": "code",
      "source": [
        "# 1부터 10까지 출력하는 합계를 구하는 프로그램\n",
        "a = 1\n",
        "sum = 0\n",
        "while a <= 10:\n",
        "  sum = sum + a\n",
        "  #print(a)\n",
        "  #sum = sum + a\n",
        "  a=a+1\n",
        "\n",
        "#else:\n",
        "  print('sum={}'.format(sum))\n"
      ],
      "metadata": {
        "colab": {
          "base_uri": "https://localhost:8080/"
        },
        "id": "NXyh6ml0l8Z_",
        "outputId": "9ac6081b-5d6b-4bf0-c910-7c4bf97656dd"
      },
      "execution_count": null,
      "outputs": [
        {
          "output_type": "stream",
          "name": "stdout",
          "text": [
            "sum=1\n",
            "sum=3\n",
            "sum=6\n",
            "sum=10\n",
            "sum=15\n",
            "sum=21\n",
            "sum=28\n",
            "sum=36\n",
            "sum=45\n",
            "sum=55\n"
          ]
        }
      ]
    },
    {
      "cell_type": "code",
      "source": [
        "# 1부터 10까지 짝수, 홀수 합계를 구하는 프로그램\n",
        "a = 1\n",
        "even = 0 #짝수\n",
        "odd = 0 #홀수\n",
        "while a <= 10 :\n",
        "  if a % 2 == 1: #홀수 ?\n",
        "    odd = odd + a #odd +=a\n",
        "  else:\n",
        "    even = even + a\n",
        "  a += 1\n",
        "\n",
        "print('짝수={}'.format(even)) #첫자리를 뛰면 계속 리턴함 10까지\n",
        "print('홀수={}'.format(odd))"
      ],
      "metadata": {
        "colab": {
          "base_uri": "https://localhost:8080/"
        },
        "id": "hDPbODWLofb1",
        "outputId": "52c6daf3-9ae4-47e2-8e52-962ef03425cf"
      },
      "execution_count": null,
      "outputs": [
        {
          "output_type": "stream",
          "name": "stdout",
          "text": [
            "짝수=30\n",
            "홀수=25\n"
          ]
        }
      ]
    },
    {
      "cell_type": "markdown",
      "source": [
        "```java\n",
        "int[] data = {10,20,30,40,50};\n",
        "for(int num : data){\n",
        "   system.out.println(num);\n",
        "}\n",
        "\n",
        "[출력결과]\n",
        "10 20 30 40 50\n",
        "```\n",
        "\n",
        "```javascript\n",
        "data = {10,20,30,40,50};\n",
        "  for(num in data){\n",
        "    console.log(num)\n",
        "}\n",
        "[출력결과]\n",
        "0 1 2 3 4\n",
        "\n",
        "data = {10,20,30,40,50};\n",
        "  for(num of data){\n",
        "    console.log(num)\n",
        "}\n",
        "[출력결과]\n",
        "10 20 30 40 50\n",
        "```\n",
        "```python\n",
        "for 변수 in interable :\n",
        "  실행구문\n",
        "```\n",
        "\n",
        "```\n",
        "for문과 함께 사용되는 함수\n",
        "- for 변수 in range(시작번호, 마지막번호, 증감값):\n",
        "     실행구문\n",
        "\n",
        "for 변수 in enumerate(sequence, start):\n",
        "     실행구문\n",
        "\n",
        "for 변수 in zip(data1, data2,....):\n",
        "     실행구문\n",
        "\n",
        "```      "
      ],
      "metadata": {
        "id": "G6PL9E4fsGru"
      }
    },
    {
      "cell_type": "markdown",
      "source": [
        "### range"
      ],
      "metadata": {
        "id": "8IgPUBXOuayH"
      }
    },
    {
      "cell_type": "code",
      "source": [
        "#range(end)\n",
        "for i in range(5):#값이 하나이면 마지막값 =0부터 5미만 값이 생성\n",
        "  print(i)"
      ],
      "metadata": {
        "colab": {
          "base_uri": "https://localhost:8080/"
        },
        "id": "NwAM3BwXuWj3",
        "outputId": "f80b0543-9f79-4198-be8a-e4ea102dc3a6"
      },
      "execution_count": null,
      "outputs": [
        {
          "output_type": "stream",
          "name": "stdout",
          "text": [
            "0\n",
            "1\n",
            "2\n",
            "3\n",
            "4\n"
          ]
        }
      ]
    },
    {
      "cell_type": "code",
      "source": [
        "#range(start, end)\n",
        "for i in range(1,5):# 1부터 5 미만의 값이 생성된다.증강값이 생략이므로 자동으로 1씩 증가\n",
        "   print(i)"
      ],
      "metadata": {
        "colab": {
          "base_uri": "https://localhost:8080/"
        },
        "id": "GpqKdcdVvHW9",
        "outputId": "268e5a50-9b58-4768-f8a5-dfa40703c495"
      },
      "execution_count": null,
      "outputs": [
        {
          "output_type": "stream",
          "name": "stdout",
          "text": [
            "1\n",
            "2\n",
            "3\n",
            "4\n"
          ]
        }
      ]
    },
    {
      "cell_type": "code",
      "source": [
        "#range(start, end, step)\n",
        "for i in range(1,5,2):#1부터 5미만의 값이 2씩 증가해서 생성\n",
        "  print(i)"
      ],
      "metadata": {
        "colab": {
          "base_uri": "https://localhost:8080/"
        },
        "id": "9o2A2SDXvXBu",
        "outputId": "06d52982-4e3e-4868-f3e2-12817a769a10"
      },
      "execution_count": null,
      "outputs": [
        {
          "output_type": "stream",
          "name": "stdout",
          "text": [
            "1\n",
            "3\n"
          ]
        }
      ]
    },
    {
      "cell_type": "markdown",
      "source": [
        "#### enumerate 함수\n",
        " - enumerate()함수는 인덱스와 객체를 동시에 저장할 수 있는 특징을 가진 for문을 좀더 효율적으로 사용하기 위한 함수이다.\n",
        " - enumerate()함수는 순서자료형(list, tuple, str)을 입력으로 받아 인덱스를 포함하는 enumerate 객체를 리턴한다.\n",
        " - enumerate([순서자료형], [시작값=0])의 형식을 가지며 순서자료형은 반복자가 가능한 객체가 입력되고 시작값은 입력시 해당수 부터 증가하며, 생략했을 경우 기본값은 0 이다."
      ],
      "metadata": {
        "id": "Pe010X0XwPq9"
      }
    },
    {
      "cell_type": "code",
      "source": [
        "for k in enumerate(['apple','python','microsoft']):#따로따로 가져올떄 tuple로 가져옴\n",
        "  print(k)"
      ],
      "metadata": {
        "colab": {
          "base_uri": "https://localhost:8080/"
        },
        "id": "LI0g_seRvjX-",
        "outputId": "3ee5fabf-5f04-417b-8da0-ae852ec535e4"
      },
      "execution_count": null,
      "outputs": [
        {
          "output_type": "stream",
          "name": "stdout",
          "text": [
            "(0, 'apple')\n",
            "(1, 'python')\n",
            "(2, 'microsoft')\n"
          ]
        }
      ]
    },
    {
      "cell_type": "code",
      "source": [
        "for k,v in enumerate(['apple','python','microsoft']):\n",
        "  print(k,v)"
      ],
      "metadata": {
        "colab": {
          "base_uri": "https://localhost:8080/"
        },
        "id": "_S55RfNfw05-",
        "outputId": "924f8f96-9e1e-426b-95c4-69c1d08f7aa4"
      },
      "execution_count": null,
      "outputs": [
        {
          "output_type": "stream",
          "name": "stdout",
          "text": [
            "0 apple\n",
            "1 python\n",
            "2 microsoft\n"
          ]
        }
      ]
    },
    {
      "cell_type": "code",
      "source": [
        "for k, v in enumerate(['apple','python','microsoft'],1):#1을 넣어주므로써 인덱스 시작값이 1이다\n",
        "  print(k, v)"
      ],
      "metadata": {
        "colab": {
          "base_uri": "https://localhost:8080/"
        },
        "id": "sXuIYEK2xBDs",
        "outputId": "66702fd6-8036-498c-f814-2371ce34370d"
      },
      "execution_count": null,
      "outputs": [
        {
          "output_type": "stream",
          "name": "stdout",
          "text": [
            "1 apple\n",
            "2 python\n",
            "3 microsoft\n"
          ]
        }
      ]
    },
    {
      "cell_type": "code",
      "source": [
        "for k in enumerate({'one':10,'two':20}):\n",
        " print(k)\n",
        " print(type(k))"
      ],
      "metadata": {
        "colab": {
          "base_uri": "https://localhost:8080/"
        },
        "id": "BL44FvwbxKht",
        "outputId": "5735ff78-93b8-4ea8-b49f-c736f79af5a2"
      },
      "execution_count": null,
      "outputs": [
        {
          "output_type": "stream",
          "name": "stdout",
          "text": [
            "(0, 'one')\n",
            "<class 'tuple'>\n",
            "(1, 'two')\n",
            "<class 'tuple'>\n"
          ]
        }
      ]
    },
    {
      "cell_type": "code",
      "source": [
        "a = {'one':10,'two':20}\n",
        "for k,v in enumerate(a):\n",
        " print(k, a[v])"
      ],
      "metadata": {
        "colab": {
          "base_uri": "https://localhost:8080/"
        },
        "id": "P4jGUyL4xjD-",
        "outputId": "eedf8103-a98f-4112-f450-238c6f725d71"
      },
      "execution_count": null,
      "outputs": [
        {
          "output_type": "stream",
          "name": "stdout",
          "text": [
            "0 10\n",
            "1 20\n"
          ]
        }
      ]
    },
    {
      "cell_type": "code",
      "source": [
        "for k, v in enumerate({10,20,30}):\n",
        "  print(k, v)"
      ],
      "metadata": {
        "colab": {
          "base_uri": "https://localhost:8080/"
        },
        "id": "pDUl5OhsxxO9",
        "outputId": "9fef2cb3-d9ff-4085-b4ec-a9498c3009ce"
      },
      "execution_count": null,
      "outputs": [
        {
          "output_type": "stream",
          "name": "stdout",
          "text": [
            "0 10\n",
            "1 20\n",
            "2 30\n"
          ]
        }
      ]
    },
    {
      "cell_type": "markdown",
      "source": [
        "## zip\n",
        "- 매개인자로 여러 목록을 받아 각 목록의 요소를 튜플에 담아 목록에 저장한다."
      ],
      "metadata": {
        "id": "_DGQQD35yTyV"
      }
    },
    {
      "cell_type": "code",
      "source": [
        "#같은 인덱스값끼리 묶어준다\n",
        "a = [1,2,3,4,5]\n",
        "b = ['a','b','c','d','f']\n",
        "\n",
        "for x in zip(a,b):\n",
        "  print(x)"
      ],
      "metadata": {
        "colab": {
          "base_uri": "https://localhost:8080/"
        },
        "id": "D2icpUVeyTXG",
        "outputId": "c2f3ca52-36ed-47cb-da93-7ec892c901c9"
      },
      "execution_count": null,
      "outputs": [
        {
          "output_type": "stream",
          "name": "stdout",
          "text": [
            "(1, 'a')\n",
            "(2, 'b')\n",
            "(3, 'c')\n",
            "(4, 'd')\n",
            "(5, 'f')\n"
          ]
        }
      ]
    },
    {
      "cell_type": "code",
      "source": [
        "#print = 3 #callable오류 나올시 미리 선언했기때문에 지워준다 del~\n",
        "#print(4)"
      ],
      "metadata": {
        "colab": {
          "base_uri": "https://localhost:8080/"
        },
        "id": "a4_wTSApy_-F",
        "outputId": "23495edb-1fb2-4f26-c422-d5e75f28b6d1"
      },
      "execution_count": null,
      "outputs": [
        {
          "output_type": "stream",
          "name": "stdout",
          "text": [
            "4\n"
          ]
        }
      ]
    },
    {
      "cell_type": "code",
      "source": [
        "a = []\n",
        "for x in range(2, 10):\n",
        "  a. append(x)#값을 []리스트 안에 넣어주고싶을때\n",
        "\n",
        "print(a)"
      ],
      "metadata": {
        "colab": {
          "base_uri": "https://localhost:8080/"
        },
        "id": "QSZ1c-pWz3hm",
        "outputId": "6d22ccbf-febc-4b47-b983-4ebf7392cb59"
      },
      "execution_count": null,
      "outputs": [
        {
          "output_type": "stream",
          "name": "stdout",
          "text": [
            "[2, 3, 4, 5, 6, 7, 8, 9]\n"
          ]
        }
      ]
    },
    {
      "cell_type": "code",
      "source": [
        "#a = []\n",
        "for x in range(2, 10): #2\n",
        "  for y in range(1,10):#9\n",
        "   print('{} X {} ={}'.format(x,y, x*y), end ='\\t')\n",
        "  print()"
      ],
      "metadata": {
        "colab": {
          "base_uri": "https://localhost:8080/"
        },
        "id": "kt5SYDwd0Dds",
        "outputId": "18b7f619-fbd6-418a-956a-195d5d48d33c"
      },
      "execution_count": null,
      "outputs": [
        {
          "output_type": "stream",
          "name": "stdout",
          "text": [
            "2 X 1 =2\t2 X 2 =4\t2 X 3 =6\t2 X 4 =8\t2 X 5 =10\t2 X 6 =12\t2 X 7 =14\t2 X 8 =16\t2 X 9 =18\t\n",
            "3 X 1 =3\t3 X 2 =6\t3 X 3 =9\t3 X 4 =12\t3 X 5 =15\t3 X 6 =18\t3 X 7 =21\t3 X 8 =24\t3 X 9 =27\t\n",
            "4 X 1 =4\t4 X 2 =8\t4 X 3 =12\t4 X 4 =16\t4 X 5 =20\t4 X 6 =24\t4 X 7 =28\t4 X 8 =32\t4 X 9 =36\t\n",
            "5 X 1 =5\t5 X 2 =10\t5 X 3 =15\t5 X 4 =20\t5 X 5 =25\t5 X 6 =30\t5 X 7 =35\t5 X 8 =40\t5 X 9 =45\t\n",
            "6 X 1 =6\t6 X 2 =12\t6 X 3 =18\t6 X 4 =24\t6 X 5 =30\t6 X 6 =36\t6 X 7 =42\t6 X 8 =48\t6 X 9 =54\t\n",
            "7 X 1 =7\t7 X 2 =14\t7 X 3 =21\t7 X 4 =28\t7 X 5 =35\t7 X 6 =42\t7 X 7 =49\t7 X 8 =56\t7 X 9 =63\t\n",
            "8 X 1 =8\t8 X 2 =16\t8 X 3 =24\t8 X 4 =32\t8 X 5 =40\t8 X 6 =48\t8 X 7 =56\t8 X 8 =64\t8 X 9 =72\t\n",
            "9 X 1 =9\t9 X 2 =18\t9 X 3 =27\t9 X 4 =36\t9 X 5 =45\t9 X 6 =54\t9 X 7 =63\t9 X 8 =72\t9 X 9 =81\t\n"
          ]
        }
      ]
    },
    {
      "cell_type": "code",
      "source": [
        "a = []\n",
        "for x in range(2, 10): #2\n",
        "  for y in range(1,10):#9\n",
        "    #print('{} X {} ={}'.format(x,y, x*y), end ='\\t')\n",
        "    a.append('{} X {} ={}'.format(x,y, x*y))\n",
        "    a.append('\\t')\n",
        "  a.append('\\n')\n",
        "\n",
        "print(a)"
      ],
      "metadata": {
        "colab": {
          "base_uri": "https://localhost:8080/"
        },
        "id": "u-mWvNLL5Sq8",
        "outputId": "482ce5d1-267e-4436-f966-182756a0bfbe"
      },
      "execution_count": null,
      "outputs": [
        {
          "output_type": "stream",
          "name": "stdout",
          "text": [
            "['2 X 1 =2', '\\t', '2 X 2 =4', '\\t', '2 X 3 =6', '\\t', '2 X 4 =8', '\\t', '2 X 5 =10', '\\t', '2 X 6 =12', '\\t', '2 X 7 =14', '\\t', '2 X 8 =16', '\\t', '2 X 9 =18', '\\t', '\\n', '3 X 1 =3', '\\t', '3 X 2 =6', '\\t', '3 X 3 =9', '\\t', '3 X 4 =12', '\\t', '3 X 5 =15', '\\t', '3 X 6 =18', '\\t', '3 X 7 =21', '\\t', '3 X 8 =24', '\\t', '3 X 9 =27', '\\t', '\\n', '4 X 1 =4', '\\t', '4 X 2 =8', '\\t', '4 X 3 =12', '\\t', '4 X 4 =16', '\\t', '4 X 5 =20', '\\t', '4 X 6 =24', '\\t', '4 X 7 =28', '\\t', '4 X 8 =32', '\\t', '4 X 9 =36', '\\t', '\\n', '5 X 1 =5', '\\t', '5 X 2 =10', '\\t', '5 X 3 =15', '\\t', '5 X 4 =20', '\\t', '5 X 5 =25', '\\t', '5 X 6 =30', '\\t', '5 X 7 =35', '\\t', '5 X 8 =40', '\\t', '5 X 9 =45', '\\t', '\\n', '6 X 1 =6', '\\t', '6 X 2 =12', '\\t', '6 X 3 =18', '\\t', '6 X 4 =24', '\\t', '6 X 5 =30', '\\t', '6 X 6 =36', '\\t', '6 X 7 =42', '\\t', '6 X 8 =48', '\\t', '6 X 9 =54', '\\t', '\\n', '7 X 1 =7', '\\t', '7 X 2 =14', '\\t', '7 X 3 =21', '\\t', '7 X 4 =28', '\\t', '7 X 5 =35', '\\t', '7 X 6 =42', '\\t', '7 X 7 =49', '\\t', '7 X 8 =56', '\\t', '7 X 9 =63', '\\t', '\\n', '8 X 1 =8', '\\t', '8 X 2 =16', '\\t', '8 X 3 =24', '\\t', '8 X 4 =32', '\\t', '8 X 5 =40', '\\t', '8 X 6 =48', '\\t', '8 X 7 =56', '\\t', '8 X 8 =64', '\\t', '8 X 9 =72', '\\t', '\\n', '9 X 1 =9', '\\t', '9 X 2 =18', '\\t', '9 X 3 =27', '\\t', '9 X 4 =36', '\\t', '9 X 5 =45', '\\t', '9 X 6 =54', '\\t', '9 X 7 =63', '\\t', '9 X 8 =72', '\\t', '9 X 9 =81', '\\t', '\\n']\n"
          ]
        }
      ]
    },
    {
      "cell_type": "markdown",
      "source": [
        "## Compression\n",
        " - Compression이란 iterable한 오브젝트를 생성하기 위한 방법 중 하나이다.\n",
        " - List Compression(LC)[]\n",
        " - Set Compression(SC){}\n",
        " - Dict Comression(DC)"
      ],
      "metadata": {
        "id": "X8_g8Uq56pIF"
      }
    },
    {
      "cell_type": "markdown",
      "source": [
        "### List Compression\n",
        " - List 정의시 값을 정하지 않고 호출시 리스트 내의 값들이 처리되도록 구성\n",
        " - A = [표현식 for 항목 in 반복가능객체(iterable)]\n",
        " - A = [표현식 for 항목 in 반복가능객체(iterable) if 논리식]\n",
        " - A = [표현식 for 항목1 in 반복가능객체(iterable)1 for 항목2 in 반복가능객체(iterable)2 if 논리식]"
      ],
      "metadata": {
        "id": "FBNTqPI36fWk"
      }
    },
    {
      "cell_type": "code",
      "source": [
        "s = []\n",
        "for x in range(10):\n",
        "  s.append(x**2)\n",
        "print(s)"
      ],
      "metadata": {
        "colab": {
          "base_uri": "https://localhost:8080/"
        },
        "id": "w_rfk2iM6Xbm",
        "outputId": "e40ea068-f43e-4762-bd20-d11baf7a8c37"
      },
      "execution_count": null,
      "outputs": [
        {
          "output_type": "stream",
          "name": "stdout",
          "text": [
            "[0, 1, 4, 9, 16, 25, 36, 49, 64, 81]\n"
          ]
        }
      ]
    },
    {
      "cell_type": "code",
      "source": [
        "s = [ x**2  for x in range(10) ]#위값 동일\n",
        "print(s)"
      ],
      "metadata": {
        "colab": {
          "base_uri": "https://localhost:8080/"
        },
        "id": "YPtQFJ6F790k",
        "outputId": "e8dc2152-7b67-4973-def7-faba473f8d34"
      },
      "execution_count": null,
      "outputs": [
        {
          "output_type": "stream",
          "name": "stdout",
          "text": [
            "[0, 1, 4, 9, 16, 25, 36, 49, 64, 81]\n"
          ]
        }
      ]
    },
    {
      "cell_type": "code",
      "source": [
        "s = []\n",
        "for x in range(10):\n",
        "  if x % 2 == 0:\n",
        "   s.append(x**2)\n",
        "print(s)"
      ],
      "metadata": {
        "colab": {
          "base_uri": "https://localhost:8080/"
        },
        "id": "HLoD0ejL9AY0",
        "outputId": "326eecdb-6544-4c15-d103-dc0cebf628f8"
      },
      "execution_count": null,
      "outputs": [
        {
          "output_type": "stream",
          "name": "stdout",
          "text": [
            "[0, 4, 16, 36, 64]\n"
          ]
        }
      ]
    },
    {
      "cell_type": "code",
      "source": [
        "s = [ x**2  for x in range(10) if x % 2 == 0 ]\n",
        "print(s)"
      ],
      "metadata": {
        "colab": {
          "base_uri": "https://localhost:8080/"
        },
        "id": "C__EiaDO8ulE",
        "outputId": "00b722f6-3f18-41fc-c10a-a0e9e8d61d33"
      },
      "execution_count": null,
      "outputs": [
        {
          "output_type": "stream",
          "name": "stdout",
          "text": [
            "[0, 4, 16, 36, 64]\n"
          ]
        }
      ]
    },
    {
      "cell_type": "code",
      "source": [
        "s = []\n",
        "for i in range(1,3):\n",
        "   for j in range(4,8):\n",
        "     print('{}{}'.format(i,j))\n",
        "     s.append((i,j))#괄호가 두개인이유:tuple값을 가지고 들어가기위해\n",
        "print(s)"
      ],
      "metadata": {
        "colab": {
          "base_uri": "https://localhost:8080/"
        },
        "id": "vUXkf1Ky9RgU",
        "outputId": "cb2f39f2-d262-4e65-84a1-f04df17628e7"
      },
      "execution_count": null,
      "outputs": [
        {
          "output_type": "stream",
          "name": "stdout",
          "text": [
            "14\n",
            "15\n",
            "16\n",
            "17\n",
            "24\n",
            "25\n",
            "26\n",
            "27\n",
            "[(1, 4), (1, 5), (1, 6), (1, 7), (2, 4), (2, 5), (2, 6), (2, 7)]\n"
          ]
        }
      ]
    },
    {
      "cell_type": "code",
      "source": [
        "s = [(i,j) for i in range(1,3) for j in range(4,8)]\n",
        "print(s)"
      ],
      "metadata": {
        "colab": {
          "base_uri": "https://localhost:8080/"
        },
        "id": "d3jBDdYz97NT",
        "outputId": "fdf5a0ac-50a4-4180-af53-216463fb942a"
      },
      "execution_count": null,
      "outputs": [
        {
          "output_type": "stream",
          "name": "stdout",
          "text": [
            "[(1, 4), (1, 5), (1, 6), (1, 7), (2, 4), (2, 5), (2, 6), (2, 7)]\n"
          ]
        }
      ]
    },
    {
      "cell_type": "markdown",
      "source": [
        "총판매금액을 구하는 프로그램(list comprehension을 사용)\n",
        "cnt = [1, 1, 2, 1]\n",
        "prod = [500, 1000, 400, 600]"
      ],
      "metadata": {
        "id": "cFfWjNux-uIu"
      }
    },
    {
      "cell_type": "code",
      "source": [
        "s = []\n",
        "cnt = [1, 1, 2, 1]\n",
        "prod = [500, 1000, 400, 600]\n",
        "for i, j in zip(cnt, prod):\n",
        "  s.append(i*j)\n",
        "\n",
        "print(sum(s))\n"
      ],
      "metadata": {
        "colab": {
          "base_uri": "https://localhost:8080/"
        },
        "id": "AVqGqhdb-niV",
        "outputId": "fd3f4a8a-fbfb-400a-fd78-e5a5c1ccaace"
      },
      "execution_count": null,
      "outputs": [
        {
          "output_type": "stream",
          "name": "stdout",
          "text": [
            "2900\n"
          ]
        }
      ]
    },
    {
      "cell_type": "code",
      "source": [
        "cnt = [1, 1, 2, 1]\n",
        "prod = [500, 1000, 400, 600]\n",
        "s = sum([i*j    for i, j in zip(cnt, prod) ])\n",
        "print(s)"
      ],
      "metadata": {
        "colab": {
          "base_uri": "https://localhost:8080/"
        },
        "id": "TmhaT4Li__BD",
        "outputId": "0a765d01-067e-4de6-8b24-dfefd7afb1a5"
      },
      "execution_count": null,
      "outputs": [
        {
          "output_type": "stream",
          "name": "stdout",
          "text": [
            "2900\n"
          ]
        }
      ]
    },
    {
      "cell_type": "markdown",
      "source": [
        "'e'가 포함되어 있는 과일들만 추출해서 대문자로 출력하는 프로그램을 구현하세요.\n",
        "fruits = ['apple', 'banana', 'cherry', 'grape', 'kiwi', 'tomato']\n",
        "\n",
        "[출력결과]\n",
        "['APPLE', 'CHERRY', 'GRAPE']"
      ],
      "metadata": {
        "id": "MOh-XrJVAukn"
      }
    },
    {
      "cell_type": "code",
      "source": [
        "fruits = ['apple', 'banana', 'cherry', 'grape', 'kiwi', 'tomato']\n",
        "s =[item.upper() for  item in fruits     if 'e' in item.lower() ]#대문자 소문자 상관없이 가져오려면 뒤에 lower작업\n",
        "   #대문자로   fruits란 아이템을 가져와라   e가 들어갔니?\n",
        "print(s)"
      ],
      "metadata": {
        "colab": {
          "base_uri": "https://localhost:8080/"
        },
        "id": "PHTAg3g1ArPM",
        "outputId": "f9345949-370e-48f3-ba3d-19980018e386"
      },
      "execution_count": null,
      "outputs": [
        {
          "output_type": "stream",
          "name": "stdout",
          "text": [
            "['APPLE', 'CHERRY', 'GRAPE']\n"
          ]
        }
      ]
    },
    {
      "cell_type": "markdown",
      "source": [
        "[문제1]  \n",
        "리스트에 저장된 문자열 중에서 길이가 5인 것들만 리스트 형태로 출력하도록 구현하세요.  \n",
        "\n",
        "a= ['alpha', 'bravo', 'charlie', 'delta', 'echo', 'foxtrot', 'golf', 'hotel', 'india']  \n",
        "\n",
        "[출력결과]     \n",
        "['alpha', 'bravo', 'delta', 'hotel', 'india']"
      ],
      "metadata": {
        "id": "MJ8-7eWoGeuz"
      }
    },
    {
      "cell_type": "code",
      "source": [
        "a= ['alpha', 'bravo', 'charlie', 'delta', 'echo', 'foxtrot', 'golf', 'hotel', 'india']\n",
        "s =[i for i in a if len(i)==5]\n",
        "s"
      ],
      "metadata": {
        "colab": {
          "base_uri": "https://localhost:8080/"
        },
        "id": "oEmg4U5DQzyq",
        "outputId": "ebce03f2-88ef-4f37-eca9-85457e5c9bc9"
      },
      "execution_count": null,
      "outputs": [
        {
          "output_type": "execute_result",
          "data": {
            "text/plain": [
              "['alpha', 'bravo', 'delta', 'hotel', 'india']"
            ]
          },
          "metadata": {},
          "execution_count": 204
        }
      ]
    },
    {
      "cell_type": "markdown",
      "source": [
        "[문제2]    \n",
        "가로 크기를 저장한 리스트를 활용해서 가로 크기가 불규칙한  리스트를 생성하도록 프로그램을 구현하세요.\n",
        "\n",
        "a = [3, 1,3, 2, 5]  \n",
        "\n",
        "\n",
        "[출력결과]  \n",
        "[[0, 0, 0], [0], [0, 0, 0], [0, 0], [0, 0, 0, 0, 0]]\n"
      ],
      "metadata": {
        "id": "bmDSyqZ2GhSL"
      }
    },
    {
      "cell_type": "code",
      "source": [
        "a = [3, 1,3, 2, 5]\n",
        "s = [[0]*i  for i in a   ]\n",
        "print(s)"
      ],
      "metadata": {
        "colab": {
          "base_uri": "https://localhost:8080/"
        },
        "id": "0gZzfjw6RAY6",
        "outputId": "66faaa95-2125-466b-accf-be6a6e5c153a"
      },
      "execution_count": null,
      "outputs": [
        {
          "output_type": "stream",
          "name": "stdout",
          "text": [
            "[[0, 0, 0], [0], [0, 0, 0], [0, 0], [0, 0, 0, 0, 0]]\n"
          ]
        }
      ]
    },
    {
      "cell_type": "markdown",
      "source": [
        "[문제3]    \n",
        "포트폴리오의 총 비용을 계산하는 프로그램을 구현하세요.   \n",
        "\n",
        "portfolio = [{'name':'AA', 'shares':100, 'price':32.20},{'name':'IBM', 'shares':50, 'price':91.10},{'name':'CAT', 'shares':150, 'price':83.44},{'name':'MSFT', 'shares':200, 'price':51.23},{'name':'GE', 'shares':95, 'price':40.37},{'name':'MSFT', 'shares':50, 'price':65.10},{'name':'IBM', 'shares':100, 'price':70.44} ]     \n",
        "\n",
        "[출력결과]  \n",
        "44671.15"
      ],
      "metadata": {
        "id": "5bjeE12GGj9M"
      }
    },
    {
      "cell_type": "markdown",
      "source": [
        "[문제4]  \n",
        "포트폴리오에서 100주 이상 보유한 종목의 리스트를 출력하는 프로그램을 구현하세요.    \n",
        "portfolio = [{'name':'AA', 'shares':100, 'price':32.20},{'name':'IBM', 'shares':50, 'price':91.10},{'name':'CAT', 'shares':150, 'price':83.44},{'name':'MSFT', 'shares':200, 'price':51.23},{'name':'GE', 'shares':95, 'price':40.37},{'name':'MSFT', 'shares':50, 'price':65.10},{'name':'IBM', 'shares':100, 'price':70.44} ]  \n",
        "\n",
        "\n",
        "[출력결과]    \n",
        "[{'name': 'AA', 'shares': 100, 'price': 32.2},\n",
        " {'name': 'CAT', 'shares': 150, 'price': 83.44},\n",
        " {'name': 'MSFT', 'shares': 200, 'price': 51.23},\n",
        " {'name': 'IBM', 'shares': 100, 'price': 70.44}]\n"
      ],
      "metadata": {
        "id": "jBRH7uZdGl2r"
      }
    },
    {
      "cell_type": "markdown",
      "source": [
        "[문제5]\n",
        "\n",
        "보유한 MSFT와 IBM주식 전체 리스트를 출력하는 프로그램을 구현하세요.  \n",
        "\n",
        "portfolio = [{'name':'AA', 'shares':100, 'price':32.20},{'name':'IBM', 'shares':50, 'price':91.10},{'name':'CAT', 'shares':150, 'price':83.44},{'name':'MSFT', 'shares':200, 'price':51.23},{'name':'GE', 'shares':95, 'price':40.37},{'name':'MSFT', 'shares':50, 'price':65.10},{'name':'IBM', 'shares':100, 'price':70.44} ]  \n",
        "\n",
        "[출력결과]   \n",
        "[{'name': 'IBM', 'price': 91.1, 'shares': 50},\n",
        " {'name': 'MSFT', 'price': 51.23, 'shares': 200},\n",
        " {'name': 'MSFT', 'price': 65.1, 'shares': 50},\n",
        " {'name': 'IBM', 'price': 70.44, 'shares': 100}]  "
      ],
      "metadata": {
        "id": "Vxr4oweVGnvU"
      }
    },
    {
      "cell_type": "markdown",
      "source": [
        "[문제6]\n",
        "보유 종목 중 가격이 10,000달러가 넘는 것의 리스트를 구현하는 프로그램을 구현하세요.  \n",
        "portfolio = [{'name':'AA', 'shares':100, 'price':32.20},{'name':'IBM', 'shares':50, 'price':91.10},{'name':'CAT', 'shares':150, 'price':83.44},{'name':'MSFT', 'shares':200, 'price':51.23},{'name':'GE', 'shares':95, 'price':40.37},{'name':'MSFT', 'shares':50, 'price':65.10},{'name':'IBM', 'shares':100, 'price':70.44} ]\n",
        "\n",
        "[출력결과]    \n",
        "[{'name': 'CAT', 'price': 83.44, 'shares': 150},\n",
        " {'name': 'MSFT', 'price': 51.23, 'shares': 200}]"
      ],
      "metadata": {
        "id": "RZxiqEGIGppj"
      }
    },
    {
      "cell_type": "markdown",
      "source": [
        "[문제7]   \n",
        "portfolio에서 얻은 name과 shares를 가지고 튜플의 리스트 (name, shares)를 만드는 프로그램을 구현하세요.  \n",
        "portfolio = [{'name':'AA', 'shares':100, 'price':32.20},{'name':'IBM', 'shares':50, 'price':91.10},{'name':'CAT', 'shares':150, 'price':83.44},{'name':'MSFT', 'shares':200, 'price':51.23},{'name':'GE', 'shares':95, 'price':40.37},{'name':'MSFT', 'shares':50, 'price':65.10},{'name':'IBM', 'shares':100, 'price':70.44} ]\n",
        "\n",
        "[출력결과]   \n",
        "[('AA', 100),\n",
        " ('IBM', 50),\n",
        " ('CAT', 150),\n",
        " ('MSFT', 200),\n",
        " ('GE', 95),\n",
        " ('MSFT', 50),\n",
        " ('IBM', 100)]\n"
      ],
      "metadata": {
        "id": "T5iMn3BYGsoj"
      }
    },
    {
      "cell_type": "markdown",
      "source": [
        "[문제8]  \n",
        "\n",
        "리스트에서 int만 추출하는 프로그램을 구현하세요.  \n",
        "oldlist = [1, 2, 'A', False, 3]\n",
        "\n",
        "[출력결과]   \n",
        "[1, 4, 9]  \n"
      ],
      "metadata": {
        "id": "NKRhL2k5Guke"
      }
    },
    {
      "cell_type": "code",
      "source": [
        "oldlist = [1, 2, 'A', False, 3]\n",
        "newlist = [i for i in oldlist if type(i) == int]\n",
        "newlist"
      ],
      "metadata": {
        "colab": {
          "base_uri": "https://localhost:8080/"
        },
        "id": "T6xB478kqLVW",
        "outputId": "8acc7af8-b9e1-4f15-d00d-c03d549eac55"
      },
      "execution_count": null,
      "outputs": [
        {
          "output_type": "execute_result",
          "data": {
            "text/plain": [
              "[1, 2, 3]"
            ]
          },
          "metadata": {},
          "execution_count": 20
        }
      ]
    },
    {
      "cell_type": "markdown",
      "source": [
        "[문제9]   \n",
        "1부터 10까지의 홀수, 짝수로 출력하는 프로그램을 구현하세요.\n",
        "\n",
        "[출력결과]   \n",
        "{1: '홀수',\n",
        " 2: '짝수',\n",
        " 3: '홀수',\n",
        " 4: '짝수',\n",
        " 5: '홀수',\n",
        " 6: '짝수',\n",
        " 7: '홀수',\n",
        " 8: '짝수',\n",
        " 9: '홀수',\n",
        " 10: '짝수'}\n"
      ],
      "metadata": {
        "id": "jsT8RQtcGw5q"
      }
    },
    {
      "cell_type": "markdown",
      "source": [
        "### dict comprehension\n",
        "- 사전 정의시 값을 정하지 않고 호출시 사전 내의 값들이 처리되도록 구성\n",
        "- A = {표현식 for (k,v) in 반복가능객체 if 논리식}"
      ],
      "metadata": {
        "id": "9Isi42EHjwXU"
      }
    },
    {
      "cell_type": "code",
      "source": [
        "d = {}\n",
        "for k,v in zip(range(9), range(9)):\n",
        "   d[k]=v\n",
        "print(d)"
      ],
      "metadata": {
        "colab": {
          "base_uri": "https://localhost:8080/"
        },
        "id": "ISK0u2-wkCWM",
        "outputId": "eeb0f5b3-2fc5-4c69-894b-0d06b38ad93d"
      },
      "execution_count": null,
      "outputs": [
        {
          "output_type": "stream",
          "name": "stdout",
          "text": [
            "{0: 0, 1: 1, 2: 2, 3: 3, 4: 4, 5: 5, 6: 6, 7: 7, 8: 8}\n"
          ]
        }
      ]
    },
    {
      "cell_type": "code",
      "source": [
        "d = { k:v for k, v in zip(range(9), range(9))}\n",
        "print(d)"
      ],
      "metadata": {
        "colab": {
          "base_uri": "https://localhost:8080/"
        },
        "id": "4Pplepg0ke4l",
        "outputId": "2d68e49d-5566-40a8-9f4b-e996294441e6"
      },
      "execution_count": null,
      "outputs": [
        {
          "output_type": "stream",
          "name": "stdout",
          "text": [
            "{0: 0, 1: 1, 2: 2, 3: 3, 4: 4, 5: 5, 6: 6, 7: 7, 8: 8}\n"
          ]
        }
      ]
    },
    {
      "cell_type": "code",
      "source": [
        "a = { 'x':1, 'y':2, 'z':3 }\n",
        "b = {'w':10, 'x':11, 'y':2}\n",
        "print(a.keys())\n",
        "print(b.keys())\n",
        "c = a.keys() - b.keys()\n",
        "print(c)\n",
        "print(type(c))\n",
        "d = c.pop()\n",
        "print('{}:{}'.format(d, a[d]))#pop함수의 경우 완전히 꺼내오는거기때문에 중복사용불가\n",
        "print(type(d))                # 객체생성하여 쓸수있음.\n",
        "                              #set형식이기때문에 문자열타입을 바꿔줘서 한다"
      ],
      "metadata": {
        "colab": {
          "base_uri": "https://localhost:8080/"
        },
        "id": "w1GSsEGJlFvD",
        "outputId": "551edb7d-b9fe-47b1-9314-41f637ff1de1"
      },
      "execution_count": null,
      "outputs": [
        {
          "output_type": "stream",
          "name": "stdout",
          "text": [
            "dict_keys(['x', 'y', 'z'])\n",
            "dict_keys(['w', 'x', 'y'])\n",
            "{'z'}\n",
            "<class 'set'>\n",
            "z:3\n",
            "<class 'str'>\n"
          ]
        }
      ]
    },
    {
      "cell_type": "code",
      "source": [
        "a = { 'x':1, 'y':2, 'z':3 }\n",
        "b = {'w':10, 'x':11, 'y':2}\n",
        "k = {key:a[key] for key in a.keys()-b.keys() }#dict는 중괄호dict이기때문에 처음에 key:value를 지정\n",
        "print(k)"
      ],
      "metadata": {
        "colab": {
          "base_uri": "https://localhost:8080/"
        },
        "id": "noSOmxv1njU2",
        "outputId": "cc57d458-504d-4e4b-af23-fb0f88a7b763"
      },
      "execution_count": null,
      "outputs": [
        {
          "output_type": "stream",
          "name": "stdout",
          "text": [
            "{'z': 3}\n"
          ]
        }
      ]
    },
    {
      "cell_type": "code",
      "source": [],
      "metadata": {
        "id": "USC4fWiloHqz"
      },
      "execution_count": null,
      "outputs": []
    },
    {
      "cell_type": "markdown",
      "source": [
        "### set comprehension\n",
        "- Set 정의시 값을 정하지 않고 호출시 Set내의 값들이 처리되도록 구성\n",
        "- A = {표현식 for 항목 in 반복가능객체 if논리식}"
      ],
      "metadata": {
        "id": "-IUoKp42oVrm"
      }
    },
    {
      "cell_type": "code",
      "source": [
        "#set은 {}이고 중복 x 이므로 중복값 x\n",
        "k = {(i,j)  for i in range(1,3) for j in range(4,8)}\n",
        "print(k)"
      ],
      "metadata": {
        "colab": {
          "base_uri": "https://localhost:8080/"
        },
        "id": "krk-wTvBok4z",
        "outputId": "2c7a2ebe-f69b-47c2-b5e3-69b3df7332bd"
      },
      "execution_count": null,
      "outputs": [
        {
          "output_type": "stream",
          "name": "stdout",
          "text": [
            "{(2, 4), (2, 7), (1, 5), (1, 4), (1, 7), (2, 6), (1, 6), (2, 5)}\n"
          ]
        }
      ]
    },
    {
      "cell_type": "code",
      "source": [
        "from google.colab import drive\n",
        "drive.mount('/content/drive')"
      ],
      "metadata": {
        "id": "ssGxcT_7pMYj",
        "outputId": "371c536f-2009-4611-c2bf-a5d372f67e90",
        "colab": {
          "base_uri": "https://localhost:8080/"
        }
      },
      "execution_count": null,
      "outputs": [
        {
          "output_type": "stream",
          "name": "stdout",
          "text": [
            "Mounted at /content/drive\n"
          ]
        }
      ]
    }
  ]
}