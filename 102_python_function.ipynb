{
  "nbformat": 4,
  "nbformat_minor": 0,
  "metadata": {
    "colab": {
      "provenance": [],
      "authorship_tag": "ABX9TyO6S7HUs1kAuMOVm7TOr5hd",
      "include_colab_link": true
    },
    "kernelspec": {
      "name": "python3",
      "display_name": "Python 3"
    },
    "language_info": {
      "name": "python"
    }
  },
  "cells": [
    {
      "cell_type": "markdown",
      "metadata": {
        "id": "view-in-github",
        "colab_type": "text"
      },
      "source": [
        "<a href=\"https://colab.research.google.com/github/qotkdals/python_demo/blob/master/102_python_function.ipynb\" target=\"_parent\"><img src=\"https://colab.research.google.com/assets/colab-badge.svg\" alt=\"Open In Colab\"/></a>"
      ]
    },
    {
      "cell_type": "markdown",
      "source": [
        "## 함수(function)\n",
        "- 함수: 특정 목적을 가진 코드의 집합이며 독립적으로 호출될 수 있는 기능이다.\n",
        "- 함수 구조-python함수의 시작 def\n",
        "```python\n",
        "   def 함수이름(parameter_1,parameter_2)-매개변수\n",
        "       수행할 문장\n",
        "       return 결과값\n",
        "```\n",
        "- 함수 호출\n",
        "```\n",
        "    함수이름(argument_1,argument_2)\n",
        "```\n",
        "parameter : 인자, argument: 인수\n"
      ],
      "metadata": {
        "id": "2wDguc61q1p8"
      }
    },
    {
      "cell_type": "code",
      "execution_count": null,
      "metadata": {
        "id": "_SKzu8WVquiM"
      },
      "outputs": [],
      "source": [
        "# 함수를 정의할때 수행할 문장을 구현하지않으면 에러가 발생한다.\n",
        "def proc( ):\n",
        "  pass # pass는 구현을 안할때 오류가 발생하지 않도록 사용한다."
      ]
    },
    {
      "cell_type": "code",
      "source": [
        "print(proc())#함수를 실행한 결과값 리턴"
      ],
      "metadata": {
        "colab": {
          "base_uri": "https://localhost:8080/"
        },
        "id": "bhY8vhhRssH8",
        "outputId": "8297ac20-8a93-49b4-a2e7-b3c726a0189c"
      },
      "execution_count": null,
      "outputs": [
        {
          "output_type": "stream",
          "name": "stdout",
          "text": [
            "None\n"
          ]
        }
      ]
    },
    {
      "cell_type": "code",
      "source": [
        "print(proc)#함수식 자체를 리턴"
      ],
      "metadata": {
        "colab": {
          "base_uri": "https://localhost:8080/"
        },
        "id": "WWzneRDftIco",
        "outputId": "985be4c2-e070-4517-f7e2-ebaa999dd809"
      },
      "execution_count": null,
      "outputs": [
        {
          "output_type": "stream",
          "name": "stdout",
          "text": [
            "<function proc at 0x7f4bcfa7b250>\n"
          ]
        }
      ]
    },
    {
      "cell_type": "code",
      "source": [
        "#python만!\n",
        "#함수를 객체의 값으로 쓸수 있다\n",
        "#함수의 식을 변수로 사용가능\n",
        "a = proc\n",
        "print(a())"
      ],
      "metadata": {
        "colab": {
          "base_uri": "https://localhost:8080/"
        },
        "id": "ZNuUwuQptXQj",
        "outputId": "560c4c1c-022e-44c6-ebb5-3f0d8beb7bca"
      },
      "execution_count": null,
      "outputs": [
        {
          "output_type": "stream",
          "name": "stdout",
          "text": [
            "None\n"
          ]
        }
      ]
    },
    {
      "cell_type": "markdown",
      "source": [
        "## callable\n",
        " - 이름 뒤에( )를 붙이는 call(호출)이라고 한다.\n",
        " - 이름 뒤에( )를 붙일 수 있는 것을 callable이라고 한다.\n",
        " - 함수는 사용할 때 이름뒤에 괄호를 붙인다.\n",
        " - python에서 callable인 것은 3가지 유형이 있다.\n",
        "  - (1)function\n",
        "  - (2)class(init가 정의되었을 경우)\n",
        "  - (3)object(call이 정의 되었을 경우)"
      ],
      "metadata": {
        "id": "NrJuvBmAwWvt"
      }
    },
    {
      "cell_type": "code",
      "source": [
        "k = 1\n",
        "k()#error 'int' object is not callable int객체 뒤에 바로 ()를 붙일수 없다"
      ],
      "metadata": {
        "id": "oGsiuEtjtm-C",
        "colab": {
          "base_uri": "https://localhost:8080/",
          "height": 203
        },
        "outputId": "3e76cc4c-b741-48ea-a520-4e5893040ffb"
      },
      "execution_count": null,
      "outputs": [
        {
          "output_type": "error",
          "ename": "TypeError",
          "evalue": "ignored",
          "traceback": [
            "\u001b[0;31m---------------------------------------------------------------------------\u001b[0m",
            "\u001b[0;31mTypeError\u001b[0m                                 Traceback (most recent call last)",
            "\u001b[0;32m<ipython-input-7-dab3a27d3e29>\u001b[0m in \u001b[0;36m<cell line: 2>\u001b[0;34m()\u001b[0m\n\u001b[1;32m      1\u001b[0m \u001b[0mk\u001b[0m \u001b[0;34m=\u001b[0m \u001b[0;36m1\u001b[0m\u001b[0;34m\u001b[0m\u001b[0;34m\u001b[0m\u001b[0m\n\u001b[0;32m----> 2\u001b[0;31m \u001b[0mk\u001b[0m\u001b[0;34m(\u001b[0m\u001b[0;34m)\u001b[0m\u001b[0;34m\u001b[0m\u001b[0;34m\u001b[0m\u001b[0m\n\u001b[0m",
            "\u001b[0;31mTypeError\u001b[0m: 'int' object is not callable"
          ]
        }
      ]
    },
    {
      "cell_type": "code",
      "source": [
        "list()#내장함수 변수를 선언하면 기존 내장함수의 값을 잃어버린다"
      ],
      "metadata": {
        "colab": {
          "base_uri": "https://localhost:8080/"
        },
        "id": "7tIxLfurxnRJ",
        "outputId": "5d0fcdf8-26e1-4ed3-c0ec-c20d8d87915d"
      },
      "execution_count": null,
      "outputs": [
        {
          "output_type": "execute_result",
          "data": {
            "text/plain": [
              "[]"
            ]
          },
          "metadata": {},
          "execution_count": 8
        }
      ]
    },
    {
      "cell_type": "code",
      "source": [
        "def prn():\n",
        "   return 1"
      ],
      "metadata": {
        "id": "vwOTX6bhxs9R"
      },
      "execution_count": null,
      "outputs": []
    },
    {
      "cell_type": "code",
      "source": [
        "prn()"
      ],
      "metadata": {
        "colab": {
          "base_uri": "https://localhost:8080/"
        },
        "id": "mRN8f1AIyDcT",
        "outputId": "be8820fd-02bd-4ac9-8464-08d49e5395a8"
      },
      "execution_count": null,
      "outputs": [
        {
          "output_type": "execute_result",
          "data": {
            "text/plain": [
              "1"
            ]
          },
          "metadata": {},
          "execution_count": 10
        }
      ]
    },
    {
      "cell_type": "code",
      "source": [
        "# 내장함수임 callable은 built-in함수로 ( )을 붙여 사용할 수 있는지를 논리값 True/False로 알려준다.\n",
        "callable(k)#괄호를 붙일수 있는지확인 붙일수 없으므로 False"
      ],
      "metadata": {
        "colab": {
          "base_uri": "https://localhost:8080/"
        },
        "id": "3wA6xF_fyIVy",
        "outputId": "f4d37863-cca0-4ffa-bb33-f4d002b8decb"
      },
      "execution_count": null,
      "outputs": [
        {
          "output_type": "execute_result",
          "data": {
            "text/plain": [
              "False"
            ]
          },
          "metadata": {},
          "execution_count": 13
        }
      ]
    },
    {
      "cell_type": "code",
      "source": [
        "callable(prn)#prn이라는 함수뒤에는 붙일수 있다고 나옴"
      ],
      "metadata": {
        "colab": {
          "base_uri": "https://localhost:8080/"
        },
        "id": "wVvQo8X6yg96",
        "outputId": "0b9f0442-594b-471c-c459-4e7894719bb6"
      },
      "execution_count": null,
      "outputs": [
        {
          "output_type": "execute_result",
          "data": {
            "text/plain": [
              "True"
            ]
          },
          "metadata": {},
          "execution_count": 14
        }
      ]
    },
    {
      "cell_type": "code",
      "source": [
        "#함수를 먼저 정의\n",
        "#파리미터 (인자) 리턴값이 있는 함수 정의\n",
        "def max(x, y):\n",
        "  if x > y:\n",
        "    res = x\n",
        "  else :\n",
        "    res = y\n",
        "  return res"
      ],
      "metadata": {
        "id": "WFOZhEgPyt-b"
      },
      "execution_count": null,
      "outputs": []
    },
    {
      "cell_type": "code",
      "source": [
        "#축약버전\n",
        "def max(x, y):\n",
        "  if x > y:\n",
        "    return x#조건값을 만족하면 수행하고 아니면 나온다\n",
        "  else :\n",
        "    return y"
      ],
      "metadata": {
        "id": "ang7g5mfzv1J"
      },
      "execution_count": null,
      "outputs": []
    },
    {
      "cell_type": "code",
      "source": [
        "# 함수를 호출\n",
        "max(10, 5)"
      ],
      "metadata": {
        "colab": {
          "base_uri": "https://localhost:8080/"
        },
        "id": "QlwZyPVZzQfJ",
        "outputId": "635f736a-2f70-4cbd-da86-e45943ec40e9"
      },
      "execution_count": null,
      "outputs": [
        {
          "output_type": "execute_result",
          "data": {
            "text/plain": [
              "10"
            ]
          },
          "metadata": {},
          "execution_count": 16
        }
      ]
    },
    {
      "cell_type": "markdown",
      "source": [
        "### 함수를 정의할때 4가지 버전"
      ],
      "metadata": {
        "id": "yvscQw6324Jc"
      }
    },
    {
      "cell_type": "code",
      "source": [
        "#파리미터 (인자) 있고 리턴값이 없는 함수 정의\n",
        "def max(x, y):\n",
        "  if x > y:\n",
        "    print(x)\n",
        "  else :\n",
        "    print(y)\n"
      ],
      "metadata": {
        "id": "oe14WXfh0DLB"
      },
      "execution_count": null,
      "outputs": []
    },
    {
      "cell_type": "code",
      "source": [
        "#python은 리턴값을 명시안하면 None 값을 리턴한다\n",
        "#다른 프로그램은 리턴값을 명시안해주면 오류가뜸\n",
        "print(max(10, 5))"
      ],
      "metadata": {
        "colab": {
          "base_uri": "https://localhost:8080/"
        },
        "id": "xx-CinPt0Wfx",
        "outputId": "2c6a5569-dafd-44fb-cb8d-83af0c025835"
      },
      "execution_count": null,
      "outputs": [
        {
          "output_type": "stream",
          "name": "stdout",
          "text": [
            "10\n",
            "None\n"
          ]
        }
      ]
    },
    {
      "cell_type": "code",
      "source": [
        "# 파리미터(인자)도 없고 리턴값이 없는 함수 정의\n",
        "def max(x, y):\n",
        "  x = 10\n",
        "  y = 5\n",
        "  if x > y:\n",
        "    print(x)\n",
        "  else :\n",
        "    print(y)"
      ],
      "metadata": {
        "id": "qXR9BJWX1d3q"
      },
      "execution_count": null,
      "outputs": []
    },
    {
      "cell_type": "code",
      "source": [
        "print(max(10, 5))"
      ],
      "metadata": {
        "colab": {
          "base_uri": "https://localhost:8080/"
        },
        "id": "J-4xrIOM2FmC",
        "outputId": "75029786-090a-4f8a-e730-5535d9f9e190"
      },
      "execution_count": null,
      "outputs": [
        {
          "output_type": "stream",
          "name": "stdout",
          "text": [
            "10\n",
            "None\n"
          ]
        }
      ]
    },
    {
      "cell_type": "code",
      "source": [
        "# 파리미터(인자)도 없고 리턴값이 있는 함수 정의\n",
        "def max():\n",
        "  x = 10\n",
        "  y = 5\n",
        "  if x > y:\n",
        "    return x\n",
        "  else :\n",
        "    return y"
      ],
      "metadata": {
        "id": "kkUkoJJA2mza"
      },
      "execution_count": null,
      "outputs": []
    },
    {
      "cell_type": "code",
      "source": [
        "print (max())"
      ],
      "metadata": {
        "colab": {
          "base_uri": "https://localhost:8080/"
        },
        "id": "gYn533JH2xlp",
        "outputId": "a4728299-c51f-4e9b-abb7-2dbf532c70e8"
      },
      "execution_count": null,
      "outputs": [
        {
          "output_type": "stream",
          "name": "stdout",
          "text": [
            "10\n"
          ]
        }
      ]
    },
    {
      "cell_type": "markdown",
      "source": [
        "## paramater 와 argument - 공부,암기\n",
        "1. positional\n",
        "2. keyword\n",
        "3. positional & keyword\n",
        "4. positional only\n",
        "5. keyword only\n",
        "6. 가변 positional\n",
        "7. 가변 keyword"
      ],
      "metadata": {
        "id": "A3WnhVIP3LI6"
      }
    },
    {
      "cell_type": "markdown",
      "source": [
        "1. positional\n",
        " - 함수 호출 : 선언할 때 파라미터의 순서와 호출할때 argument의 입력순서를 그대로 매칭한다.(순서,갯수 동일)"
      ],
      "metadata": {
        "id": "RU4izw7h359T"
      }
    },
    {
      "cell_type": "code",
      "source": [
        "def proc(a, b):\n",
        "  return a, b #tuple 기호 생략.여러개가 가능한것이 아닌 tuple 값을 리턴한다"
      ],
      "metadata": {
        "id": "DxiKv21d33TY"
      },
      "execution_count": null,
      "outputs": []
    },
    {
      "cell_type": "code",
      "source": [
        "proc(2,4)# 2라는값과 4라는 값이 동일한 위치로 매칭된다"
      ],
      "metadata": {
        "colab": {
          "base_uri": "https://localhost:8080/"
        },
        "id": "Ujtui6RO4fZh",
        "outputId": "b775606d-2546-47f8-d2d8-7f18f568dd62"
      },
      "execution_count": null,
      "outputs": [
        {
          "output_type": "execute_result",
          "data": {
            "text/plain": [
              "(2, 4)"
            ]
          },
          "metadata": {},
          "execution_count": 33
        }
      ]
    },
    {
      "cell_type": "markdown",
      "source": [
        "2. keyword\n",
        "- keyword 방식을 이용하면 순서와 상관없이 parameter이름에 따라 값이 대입된다."
      ],
      "metadata": {
        "id": "_a2kJx5R42ux"
      }
    },
    {
      "cell_type": "code",
      "source": [
        "proc(b=4, a=2)#순서와 상관없이 parmeter이름에 따라 값이 대입"
      ],
      "metadata": {
        "colab": {
          "base_uri": "https://localhost:8080/"
        },
        "id": "jjL315Jm5Auq",
        "outputId": "636317bb-c089-4135-9c53-122183743fc2"
      },
      "execution_count": null,
      "outputs": [
        {
          "output_type": "execute_result",
          "data": {
            "text/plain": [
              "(2, 4)"
            ]
          },
          "metadata": {},
          "execution_count": 34
        }
      ]
    },
    {
      "cell_type": "markdown",
      "source": [
        "3. keyword & positional 혼합"
      ],
      "metadata": {
        "id": "aEkfjC8n5jOh"
      }
    },
    {
      "cell_type": "code",
      "source": [
        "def proc(a, b, c):\n",
        "  return a, b, c\n"
      ],
      "metadata": {
        "id": "f-tCQsLW5fbr"
      },
      "execution_count": null,
      "outputs": []
    },
    {
      "cell_type": "code",
      "source": [
        "proc(2, c=5, b=3)#Error: positional argument follows keyword argument\n",
        "                 #positional값은 반드시 앞에 와야한다. 뒤에올수 없다"
      ],
      "metadata": {
        "colab": {
          "base_uri": "https://localhost:8080/"
        },
        "id": "vopJqVin5uQB",
        "outputId": "cd3d7af6-04fd-4ba0-94ba-9089498fbfce"
      },
      "execution_count": null,
      "outputs": [
        {
          "output_type": "execute_result",
          "data": {
            "text/plain": [
              "(2, 3, 5)"
            ]
          },
          "metadata": {},
          "execution_count": 39
        }
      ]
    },
    {
      "cell_type": "code",
      "source": [
        "#한번 keyword 방식을 사용하면, 그다음부터는 keyword방법만 사용할 수 있다.\n",
        "proc(c=5, 2, b=3)"
      ],
      "metadata": {
        "colab": {
          "base_uri": "https://localhost:8080/",
          "height": 147
        },
        "id": "_fKAz6B25_tI",
        "outputId": "a468e9dc-a192-4d60-e558-12d82f5c5e82"
      },
      "execution_count": null,
      "outputs": [
        {
          "output_type": "error",
          "ename": "SyntaxError",
          "evalue": "ignored",
          "traceback": [
            "\u001b[0;36m  File \u001b[0;32m\"<ipython-input-40-3435ba89ec54>\"\u001b[0;36m, line \u001b[0;32m1\u001b[0m\n\u001b[0;31m    proc(c=5, 2, b=3)\u001b[0m\n\u001b[0m                    ^\u001b[0m\n\u001b[0;31mSyntaxError\u001b[0m\u001b[0;31m:\u001b[0m positional argument follows keyword argument\n"
          ]
        }
      ]
    },
    {
      "cell_type": "code",
      "source": [
        "#파이썬 버전확인\n",
        "! python --version"
      ],
      "metadata": {
        "colab": {
          "base_uri": "https://localhost:8080/"
        },
        "id": "GH9X0Oct6rn2",
        "outputId": "65ecfdfb-22f0-4434-c09e-222798165e9a"
      },
      "execution_count": null,
      "outputs": [
        {
          "output_type": "stream",
          "name": "stdout",
          "text": [
            "Python 3.10.12\n"
          ]
        }
      ]
    },
    {
      "cell_type": "markdown",
      "source": [
        "4. positional only\n",
        "- prositional only는 함수를 사용할 때 prositional방식으로만 parameter를 쓸 수 있도록 강제하는 방법이다.\n",
        "- / 의 앞에 오는 parameter들은 positional방식으로 입력할 수 있지만, keyword방식으로 입력할 수 없다.\n",
        "- positional only 함수를 정의할 수 있는 것은 python 3.8부터 지원한다. 이전 버전에서는 사전 정의된 positional only함수는 있지만, 사용자가 만들 수는 없었다."
      ],
      "metadata": {
        "id": "Q_qF4xv56yxg"
      }
    },
    {
      "cell_type": "code",
      "source": [
        "def proc(a, b, c, /):\n",
        "  return a, b, c"
      ],
      "metadata": {
        "id": "SAFqoSZ664Lx"
      },
      "execution_count": null,
      "outputs": []
    },
    {
      "cell_type": "code",
      "source": [
        "proc(4, 5, 6)"
      ],
      "metadata": {
        "colab": {
          "base_uri": "https://localhost:8080/"
        },
        "id": "zZcOTVYZ7Dcx",
        "outputId": "2feaf43f-5373-4ac0-98e2-325728dcebdb"
      },
      "execution_count": null,
      "outputs": [
        {
          "output_type": "execute_result",
          "data": {
            "text/plain": [
              "(4, 5, 6)"
            ]
          },
          "metadata": {},
          "execution_count": 43
        }
      ]
    },
    {
      "cell_type": "code",
      "source": [
        "#positional만 가능하다 keyword불가\n",
        "proc(4, c=6, b=5)#Error: proc() got some positional-only arguments passed as keyword arguments: 'b, c'"
      ],
      "metadata": {
        "colab": {
          "base_uri": "https://localhost:8080/",
          "height": 184
        },
        "id": "H4QeDqCO-iVp",
        "outputId": "e7a5d277-81b0-47f9-a5de-747cfbc7df52"
      },
      "execution_count": null,
      "outputs": [
        {
          "output_type": "error",
          "ename": "TypeError",
          "evalue": "ignored",
          "traceback": [
            "\u001b[0;31m---------------------------------------------------------------------------\u001b[0m",
            "\u001b[0;31mTypeError\u001b[0m                                 Traceback (most recent call last)",
            "\u001b[0;32m<ipython-input-49-38ec957656fc>\u001b[0m in \u001b[0;36m<cell line: 1>\u001b[0;34m()\u001b[0m\n\u001b[0;32m----> 1\u001b[0;31m \u001b[0mproc\u001b[0m\u001b[0;34m(\u001b[0m\u001b[0;36m4\u001b[0m\u001b[0;34m,\u001b[0m \u001b[0mc\u001b[0m\u001b[0;34m=\u001b[0m\u001b[0;36m6\u001b[0m\u001b[0;34m,\u001b[0m \u001b[0mb\u001b[0m\u001b[0;34m=\u001b[0m\u001b[0;36m5\u001b[0m\u001b[0;34m)\u001b[0m\u001b[0;34m\u001b[0m\u001b[0;34m\u001b[0m\u001b[0m\n\u001b[0m",
            "\u001b[0;31mTypeError\u001b[0m: proc() got some positional-only arguments passed as keyword arguments: 'b, c'"
          ]
        }
      ]
    },
    {
      "cell_type": "code",
      "source": [
        "#positional에서 앞에만 positional이면 문제없다 뒤에는 keyword가능\n",
        "def proc(a, b, /, c, d):\n",
        "  return a, b, c, d"
      ],
      "metadata": {
        "id": "HHYo1fnB-0nB"
      },
      "execution_count": null,
      "outputs": []
    },
    {
      "cell_type": "code",
      "source": [
        "proc(4,5,6,7)"
      ],
      "metadata": {
        "colab": {
          "base_uri": "https://localhost:8080/"
        },
        "id": "OWsEIT57-6YA",
        "outputId": "d6426481-41aa-450a-ab83-fa055a4c6996"
      },
      "execution_count": null,
      "outputs": [
        {
          "output_type": "execute_result",
          "data": {
            "text/plain": [
              "(4, 5, 6, 7)"
            ]
          },
          "metadata": {},
          "execution_count": 52
        }
      ]
    },
    {
      "cell_type": "code",
      "source": [
        "proc(4,5,d=7,c=6)"
      ],
      "metadata": {
        "colab": {
          "base_uri": "https://localhost:8080/"
        },
        "id": "Fqdg6Mgu_AkY",
        "outputId": "815cf7c8-bf52-494d-aced-dd84f63bd95a"
      },
      "execution_count": null,
      "outputs": [
        {
          "output_type": "execute_result",
          "data": {
            "text/plain": [
              "(4, 5, 6, 7)"
            ]
          },
          "metadata": {},
          "execution_count": 53
        }
      ]
    },
    {
      "cell_type": "markdown",
      "source": [
        "5. keyword only\n",
        "- keyword only방식은 keyword방식으로만 입력하도록 강제하는 방법이다.\n",
        "- '*'이후로는 keyword 방식만 가능하다."
      ],
      "metadata": {
        "id": "Vw5P9f7F_SF4"
      }
    },
    {
      "cell_type": "code",
      "source": [
        "def proc(*, a, b, c, d):\n",
        "  return a, b, c, d"
      ],
      "metadata": {
        "id": "toRfjjuG_k1A"
      },
      "execution_count": null,
      "outputs": []
    },
    {
      "cell_type": "code",
      "source": [
        "proc(a=3, c=5, b=4, d=6)"
      ],
      "metadata": {
        "colab": {
          "base_uri": "https://localhost:8080/"
        },
        "id": "DRvJ_d3x_wRw",
        "outputId": "da1324dd-dacd-4aae-d136-48ca39cee018"
      },
      "execution_count": null,
      "outputs": [
        {
          "output_type": "execute_result",
          "data": {
            "text/plain": [
              "(3, 4, 5, 6)"
            ]
          },
          "metadata": {},
          "execution_count": 65
        }
      ]
    },
    {
      "cell_type": "code",
      "source": [
        "def proc(a, b, *, c, d):#*이후로는 무조건 keyword방식\n",
        "   return a, b, c, d"
      ],
      "metadata": {
        "id": "BUyPTlPxAehF"
      },
      "execution_count": null,
      "outputs": []
    },
    {
      "cell_type": "code",
      "source": [
        "proc(3, 4, d=6, c=5)"
      ],
      "metadata": {
        "colab": {
          "base_uri": "https://localhost:8080/"
        },
        "id": "A7Z7GVO__2F4",
        "outputId": "6f15c183-020d-4b3f-93aa-df14315c5887"
      },
      "execution_count": null,
      "outputs": [
        {
          "output_type": "execute_result",
          "data": {
            "text/plain": [
              "(3, 4, 5, 6)"
            ]
          },
          "metadata": {},
          "execution_count": 63
        }
      ]
    },
    {
      "cell_type": "markdown",
      "source": [
        "6. 가변 positional\n",
        "- 가변 positional은 parameter 이름에 '*'를 붙인다.\n",
        "- positional방식으로 입력되는 argument의 갯수에 상관없이 모두 받아온다.  "
      ],
      "metadata": {
        "id": "JVEaBt5IAyyB"
      }
    },
    {
      "cell_type": "code",
      "source": [
        "#*a일때 갯수에 상관은 없지만 반드시 positional방식에 맞춰서 준다\n",
        "def proc(*a):\n",
        "  print(type(a))\n",
        "  return a"
      ],
      "metadata": {
        "id": "e3qeBOXQBK85"
      },
      "execution_count": null,
      "outputs": []
    },
    {
      "cell_type": "code",
      "source": [
        "print(proc())"
      ],
      "metadata": {
        "colab": {
          "base_uri": "https://localhost:8080/"
        },
        "id": "MHvd4HXRBUgS",
        "outputId": "d0e2ad15-2b19-41d2-99c6-894185167019"
      },
      "execution_count": null,
      "outputs": [
        {
          "output_type": "stream",
          "name": "stdout",
          "text": [
            "<class 'tuple'>\n",
            "()\n"
          ]
        }
      ]
    },
    {
      "cell_type": "code",
      "source": [
        "print(proc(1))"
      ],
      "metadata": {
        "colab": {
          "base_uri": "https://localhost:8080/"
        },
        "id": "GcrztEZHBemA",
        "outputId": "f4acb86b-9f77-4e76-a42c-0a908ed5e1bf"
      },
      "execution_count": null,
      "outputs": [
        {
          "output_type": "stream",
          "name": "stdout",
          "text": [
            "<class 'tuple'>\n",
            "(1,)\n"
          ]
        }
      ]
    },
    {
      "cell_type": "code",
      "source": [
        "print(proc(1,2,3))"
      ],
      "metadata": {
        "colab": {
          "base_uri": "https://localhost:8080/"
        },
        "id": "-LdT3PlZBliw",
        "outputId": "7a4e1ea1-41fe-419f-f774-a7f45a4e1653"
      },
      "execution_count": null,
      "outputs": [
        {
          "output_type": "stream",
          "name": "stdout",
          "text": [
            "<class 'tuple'>\n",
            "(1, 2, 3)\n"
          ]
        }
      ]
    },
    {
      "cell_type": "markdown",
      "source": [
        "7. 가변 keyword\n",
        "- 가변 keyword는 parameter 이름에 '**'를 붙인다.\n",
        "- keyword 방식으로 입력되는 argument의 개수에 상관없이 모두 받아온다."
      ],
      "metadata": {
        "id": "b4AktHKOCH7x"
      }
    },
    {
      "cell_type": "code",
      "source": [
        "#**두개를 붙이면 dict값으로 표현된다.\n",
        "# 가변 keyword는 한번만 선언한다.\n",
        "def proc(**a):\n",
        "  print(type(a))\n",
        "  return a"
      ],
      "metadata": {
        "id": "dXHGsTM1CU9Z"
      },
      "execution_count": null,
      "outputs": []
    },
    {
      "cell_type": "code",
      "source": [
        "proc(x=2, y=3)"
      ],
      "metadata": {
        "colab": {
          "base_uri": "https://localhost:8080/"
        },
        "id": "B4cNqNhACaNq",
        "outputId": "715657e3-e97b-4b96-a95e-ec960139ad3c"
      },
      "execution_count": null,
      "outputs": [
        {
          "output_type": "stream",
          "name": "stdout",
          "text": [
            "<class 'dict'>\n"
          ]
        },
        {
          "output_type": "execute_result",
          "data": {
            "text/plain": [
              "{'x': 2, 'y': 3}"
            ]
          },
          "metadata": {},
          "execution_count": 75
        }
      ]
    },
    {
      "cell_type": "code",
      "source": [
        "proc(x=3, y=1, z=[1,2,3])"
      ],
      "metadata": {
        "colab": {
          "base_uri": "https://localhost:8080/"
        },
        "id": "6X9hrdDvCpRp",
        "outputId": "4d7633fd-4a1d-4df1-90fb-ac026b123e1a"
      },
      "execution_count": null,
      "outputs": [
        {
          "output_type": "stream",
          "name": "stdout",
          "text": [
            "<class 'dict'>\n"
          ]
        },
        {
          "output_type": "execute_result",
          "data": {
            "text/plain": [
              "{'x': 3, 'y': 1, 'z': [1, 2, 3]}"
            ]
          },
          "metadata": {},
          "execution_count": 76
        }
      ]
    },
    {
      "cell_type": "markdown",
      "source": [
        "가변 positional / 가변 positional은 한번만 사용할 수 있다."
      ],
      "metadata": {
        "id": "Wl-QFmirDUXQ"
      }
    },
    {
      "cell_type": "code",
      "source": [
        "def proc(*a,*b):#오류 선언할때는 한번만 가능\n",
        "  return a, b"
      ],
      "metadata": {
        "id": "6zceSzVpDNUJ"
      },
      "execution_count": null,
      "outputs": []
    },
    {
      "cell_type": "code",
      "source": [
        "def proc(**a,**b):#오류 선언할때는 한번만 가능\n",
        "  return a, b"
      ],
      "metadata": {
        "colab": {
          "base_uri": "https://localhost:8080/",
          "height": 147
        },
        "id": "6RxINuG1Dp15",
        "outputId": "a211a51f-21c6-4cb5-ae54-80a217cc4c51"
      },
      "execution_count": null,
      "outputs": [
        {
          "output_type": "error",
          "ename": "SyntaxError",
          "evalue": "ignored",
          "traceback": [
            "\u001b[0;36m  File \u001b[0;32m\"<ipython-input-79-fb177d7e89bb>\"\u001b[0;36m, line \u001b[0;32m1\u001b[0m\n\u001b[0;31m    def proc(**a,**b):\u001b[0m\n\u001b[0m                 ^\u001b[0m\n\u001b[0;31mSyntaxError\u001b[0m\u001b[0;31m:\u001b[0m invalid syntax\n"
          ]
        }
      ]
    },
    {
      "cell_type": "code",
      "source": [
        "#반복된 작업들을 함수로 정의하고 함수로 사용\n",
        "x=3; y=5\n",
        "result = x + y\n",
        "print(result)\n",
        "\n",
        "x=4; y=8\n",
        "result = x + y\n",
        "print (result)\n",
        "\n",
        "x=5; y=6\n",
        "result = x + y\n",
        "print (result)"
      ],
      "metadata": {
        "colab": {
          "base_uri": "https://localhost:8080/"
        },
        "id": "g_IrI4rGDzCw",
        "outputId": "0280d160-0e2b-4758-9ef8-8e28b15bb01e"
      },
      "execution_count": null,
      "outputs": [
        {
          "output_type": "stream",
          "name": "stdout",
          "text": [
            "8\n",
            "12\n",
            "11\n"
          ]
        }
      ]
    },
    {
      "cell_type": "code",
      "source": [
        "def plus(x, y):#더해주는 함수를 구현 내장함수 내장객체를 제외한 임의의 이름을 지정가능\n",
        "               #숫자와 문자를 섞어서 지정해도 되지만 앞에는 숫자 x 숫자도 잘안씀\n",
        "  result = x + y\n",
        "  return result"
      ],
      "metadata": {
        "id": "UYU25-avEf5g"
      },
      "execution_count": null,
      "outputs": []
    },
    {
      "cell_type": "code",
      "source": [
        "plus(3,5)"
      ],
      "metadata": {
        "colab": {
          "base_uri": "https://localhost:8080/"
        },
        "id": "Tq2-qJ27Emx4",
        "outputId": "3158cba4-b300-4e69-9960-4f8cde7f7a50"
      },
      "execution_count": null,
      "outputs": [
        {
          "output_type": "execute_result",
          "data": {
            "text/plain": [
              "8"
            ]
          },
          "metadata": {},
          "execution_count": 84
        }
      ]
    },
    {
      "cell_type": "code",
      "source": [
        "plus(4,8)"
      ],
      "metadata": {
        "colab": {
          "base_uri": "https://localhost:8080/"
        },
        "id": "XN-VkFLpEsKY",
        "outputId": "0dcbfb30-d40a-4b34-ebb9-5ff127b1b619"
      },
      "execution_count": null,
      "outputs": [
        {
          "output_type": "execute_result",
          "data": {
            "text/plain": [
              "12"
            ]
          },
          "metadata": {},
          "execution_count": 86
        }
      ]
    },
    {
      "cell_type": "code",
      "source": [
        "plus(5,6)"
      ],
      "metadata": {
        "colab": {
          "base_uri": "https://localhost:8080/"
        },
        "id": "gOH_NRItEtmX",
        "outputId": "14dcf0ef-1d2d-466a-955b-46335eb146cf"
      },
      "execution_count": null,
      "outputs": [
        {
          "output_type": "execute_result",
          "data": {
            "text/plain": [
              "11"
            ]
          },
          "metadata": {},
          "execution_count": 85
        }
      ]
    },
    {
      "cell_type": "markdown",
      "source": [
        "## overloading,override\n",
        "- 함수의 이름은 같은데, parameter 갯수 또는 parameter 타입이 달라야 한다.\n",
        "- python은 overloading을 지원하지 않는다.\n"
      ],
      "metadata": {
        "id": "9Hx3OIKOFnj6"
      }
    },
    {
      "cell_type": "code",
      "source": [
        "def add(a):\n",
        "  return a+1"
      ],
      "metadata": {
        "id": "lSZqvxVAFkeH"
      },
      "execution_count": null,
      "outputs": []
    },
    {
      "cell_type": "code",
      "source": [
        "add(6)"
      ],
      "metadata": {
        "colab": {
          "base_uri": "https://localhost:8080/"
        },
        "id": "KXvgpQ_iGER3",
        "outputId": "b9c5964c-d378-4d48-983f-c993659c9715"
      },
      "execution_count": null,
      "outputs": [
        {
          "output_type": "execute_result",
          "data": {
            "text/plain": [
              "7"
            ]
          },
          "metadata": {},
          "execution_count": 89
        }
      ]
    },
    {
      "cell_type": "code",
      "source": [
        "#이름이 같으나 매개변수의 갯수가 다른경우\n",
        "#overloading = 새로운 값이 기존의 값에 붙여넣기 됨\n",
        "def add(a, b):\n",
        "  return a+b"
      ],
      "metadata": {
        "id": "zzGawrHxGHfw"
      },
      "execution_count": null,
      "outputs": []
    },
    {
      "cell_type": "code",
      "source": [
        "add(1,2)"
      ],
      "metadata": {
        "colab": {
          "base_uri": "https://localhost:8080/"
        },
        "id": "csjYhSXVGU2w",
        "outputId": "84864674-3732-4098-aa07-750c8a64570a"
      },
      "execution_count": null,
      "outputs": [
        {
          "output_type": "execute_result",
          "data": {
            "text/plain": [
              "3"
            ]
          },
          "metadata": {},
          "execution_count": 92
        }
      ]
    },
    {
      "cell_type": "code",
      "source": [
        "add(3)#기존의 값이 새로운값으로 변경"
      ],
      "metadata": {
        "colab": {
          "base_uri": "https://localhost:8080/",
          "height": 184
        },
        "id": "YvDqlQAnGbbf",
        "outputId": "264c74b7-cf1b-436d-874d-c86160269828"
      },
      "execution_count": null,
      "outputs": [
        {
          "output_type": "error",
          "ename": "TypeError",
          "evalue": "ignored",
          "traceback": [
            "\u001b[0;31m---------------------------------------------------------------------------\u001b[0m",
            "\u001b[0;31mTypeError\u001b[0m                                 Traceback (most recent call last)",
            "\u001b[0;32m<ipython-input-93-4c015eca70a5>\u001b[0m in \u001b[0;36m<cell line: 1>\u001b[0;34m()\u001b[0m\n\u001b[0;32m----> 1\u001b[0;31m \u001b[0madd\u001b[0m\u001b[0;34m(\u001b[0m\u001b[0;36m3\u001b[0m\u001b[0;34m)\u001b[0m\u001b[0;34m\u001b[0m\u001b[0;34m\u001b[0m\u001b[0m\n\u001b[0m",
            "\u001b[0;31mTypeError\u001b[0m: add() missing 1 required positional argument: 'b'"
          ]
        }
      ]
    },
    {
      "cell_type": "code",
      "source": [
        "sum([1,2,3])"
      ],
      "metadata": {
        "colab": {
          "base_uri": "https://localhost:8080/"
        },
        "id": "vp2sMF8AG1tI",
        "outputId": "d4e12112-0af3-4c54-d29c-6d02e31850c1"
      },
      "execution_count": null,
      "outputs": [
        {
          "output_type": "execute_result",
          "data": {
            "text/plain": [
              "6"
            ]
          },
          "metadata": {},
          "execution_count": 94
        }
      ]
    },
    {
      "cell_type": "code",
      "source": [
        "def sum(a, b):\n",
        "  return a+b"
      ],
      "metadata": {
        "id": "5SjrneO4G9-H"
      },
      "execution_count": null,
      "outputs": []
    },
    {
      "cell_type": "code",
      "source": [
        "sum(1,2)"
      ],
      "metadata": {
        "colab": {
          "base_uri": "https://localhost:8080/"
        },
        "id": "aKyMCNfQHGKo",
        "outputId": "46acc770-a33d-45bc-eba1-54dde198ddbf"
      },
      "execution_count": null,
      "outputs": [
        {
          "output_type": "execute_result",
          "data": {
            "text/plain": [
              "3"
            ]
          },
          "metadata": {},
          "execution_count": 96
        }
      ]
    },
    {
      "cell_type": "code",
      "source": [
        "sum(1,2,3)#내장함수도 overloading하면 기존의 의미를 잃어버린다."
      ],
      "metadata": {
        "colab": {
          "base_uri": "https://localhost:8080/",
          "height": 184
        },
        "id": "AlCYpbbCHId3",
        "outputId": "0a571410-5300-4ebe-cde6-a5324eb1e6b3"
      },
      "execution_count": null,
      "outputs": [
        {
          "output_type": "error",
          "ename": "TypeError",
          "evalue": "ignored",
          "traceback": [
            "\u001b[0;31m---------------------------------------------------------------------------\u001b[0m",
            "\u001b[0;31mTypeError\u001b[0m                                 Traceback (most recent call last)",
            "\u001b[0;32m<ipython-input-97-dd9496db4b54>\u001b[0m in \u001b[0;36m<cell line: 1>\u001b[0;34m()\u001b[0m\n\u001b[0;32m----> 1\u001b[0;31m \u001b[0msum\u001b[0m\u001b[0;34m(\u001b[0m\u001b[0;36m1\u001b[0m\u001b[0;34m,\u001b[0m\u001b[0;36m2\u001b[0m\u001b[0;34m,\u001b[0m\u001b[0;36m3\u001b[0m\u001b[0;34m)\u001b[0m\u001b[0;34m\u001b[0m\u001b[0;34m\u001b[0m\u001b[0m\n\u001b[0m",
            "\u001b[0;31mTypeError\u001b[0m: sum() takes 2 positional arguments but 3 were given"
          ]
        }
      ]
    },
    {
      "cell_type": "code",
      "source": [
        "del sum#새로 정의한 sum함수의 값을 지운다."
      ],
      "metadata": {
        "id": "Qvq3T7wyHSTg"
      },
      "execution_count": null,
      "outputs": []
    },
    {
      "cell_type": "code",
      "source": [
        "type(add)#fuction=함수"
      ],
      "metadata": {
        "colab": {
          "base_uri": "https://localhost:8080/"
        },
        "id": "ueHhTgbrHYFY",
        "outputId": "5b5711e6-187c-40ba-e7fd-ab6d82df079c"
      },
      "execution_count": null,
      "outputs": [
        {
          "output_type": "execute_result",
          "data": {
            "text/plain": [
              "function"
            ]
          },
          "metadata": {},
          "execution_count": 99
        }
      ]
    },
    {
      "cell_type": "code",
      "source": [
        "print(dir(add))"
      ],
      "metadata": {
        "colab": {
          "base_uri": "https://localhost:8080/"
        },
        "id": "mhwJIlX4Hyh3",
        "outputId": "22a292a8-7200-4fab-d2d9-9da956a50d4c"
      },
      "execution_count": null,
      "outputs": [
        {
          "output_type": "stream",
          "name": "stdout",
          "text": [
            "['__annotations__', '__builtins__', '__call__', '__class__', '__closure__', '__code__', '__defaults__', '__delattr__', '__dict__', '__dir__', '__doc__', '__eq__', '__format__', '__ge__', '__get__', '__getattribute__', '__globals__', '__gt__', '__hash__', '__init__', '__init_subclass__', '__kwdefaults__', '__le__', '__lt__', '__module__', '__name__', '__ne__', '__new__', '__qualname__', '__reduce__', '__reduce_ex__', '__repr__', '__setattr__', '__sizeof__', '__str__', '__subclasshook__']\n"
          ]
        }
      ]
    },
    {
      "cell_type": "code",
      "source": [
        "#__name__은 함수이름을 출력\n",
        "add.__name__"
      ],
      "metadata": {
        "colab": {
          "base_uri": "https://localhost:8080/",
          "height": 35
        },
        "id": "xC-MzaNiH-aP",
        "outputId": "04631a55-e92b-4da5-fc4a-341f5f8d31ac"
      },
      "execution_count": null,
      "outputs": [
        {
          "output_type": "execute_result",
          "data": {
            "text/plain": [
              "'add'"
            ],
            "application/vnd.google.colaboratory.intrinsic+json": {
              "type": "string"
            }
          },
          "metadata": {},
          "execution_count": 101
        }
      ]
    },
    {
      "cell_type": "code",
      "source": [
        "display = add"
      ],
      "metadata": {
        "id": "hELVTzi2IIXf"
      },
      "execution_count": null,
      "outputs": []
    },
    {
      "cell_type": "code",
      "source": [
        "display(2,3)"
      ],
      "metadata": {
        "colab": {
          "base_uri": "https://localhost:8080/"
        },
        "id": "XrcD_VW-IUa_",
        "outputId": "fbcaa78c-c2e6-4dc4-c1de-e26385814343"
      },
      "execution_count": null,
      "outputs": [
        {
          "output_type": "execute_result",
          "data": {
            "text/plain": [
              "5"
            ]
          },
          "metadata": {},
          "execution_count": 103
        }
      ]
    },
    {
      "cell_type": "code",
      "source": [
        "#함수를 다른 함수에 재할당해도 __name__은 원래 함수명을 알려준다.\n",
        "display.__name__#내장되어 있는 함수의 종료를 확인할수있다."
      ],
      "metadata": {
        "colab": {
          "base_uri": "https://localhost:8080/",
          "height": 35
        },
        "id": "888dQY3kIatv",
        "outputId": "d9d797dd-5232-4932-dbb4-f77da311ba16"
      },
      "execution_count": null,
      "outputs": [
        {
          "output_type": "execute_result",
          "data": {
            "text/plain": [
              "'add'"
            ],
            "application/vnd.google.colaboratory.intrinsic+json": {
              "type": "string"
            }
          },
          "metadata": {},
          "execution_count": 104
        }
      ]
    },
    {
      "cell_type": "code",
      "source": [
        "type(display)"
      ],
      "metadata": {
        "colab": {
          "base_uri": "https://localhost:8080/"
        },
        "id": "klAgC_HEImu_",
        "outputId": "da3f764e-dc84-4837-f3ab-a1ff06af779b"
      },
      "execution_count": null,
      "outputs": [
        {
          "output_type": "execute_result",
          "data": {
            "text/plain": [
              "function"
            ]
          },
          "metadata": {},
          "execution_count": 105
        }
      ]
    },
    {
      "cell_type": "markdown",
      "source": [
        "정수 5개의 argument을 받는 exam함수를 정의해서 합계와 평균을 계산하는 프로그램을 구현하세요."
      ],
      "metadata": {
        "id": "iWHQsFn4LpbR"
      }
    },
    {
      "cell_type": "code",
      "source": [
        "#복습\n",
        "def exam(a,b,c,d,e):#선언받는\n",
        "   hap = a+b+c+d+e\n",
        "   avg = hap / 5\n",
        "   print('합계:{}'.format(hap))\n",
        "   print('평균:{}'.format(avg))"
      ],
      "metadata": {
        "id": "16KJCnNlI_s3"
      },
      "execution_count": null,
      "outputs": []
    },
    {
      "cell_type": "code",
      "source": [
        "exam(2,3,4,5,6)"
      ],
      "metadata": {
        "colab": {
          "base_uri": "https://localhost:8080/"
        },
        "id": "HH8-RYKiM8Uf",
        "outputId": "abf1b993-263c-41bf-a03e-36a378b62706"
      },
      "execution_count": null,
      "outputs": [
        {
          "output_type": "stream",
          "name": "stdout",
          "text": [
            "합계:20\n",
            "평균:4.0\n"
          ]
        }
      ]
    },
    {
      "cell_type": "markdown",
      "source": [
        "str데이터 타입의 argument을 받는 display함수를 정의하고 문자열의 갯수를 리턴하는 프로그램을 구현하세요"
      ],
      "metadata": {
        "id": "6KXRTzDtLx2B"
      }
    },
    {
      "cell_type": "code",
      "source": [
        "def display(k):\n",
        "  return len(k)\n",
        "\n",
        "\n"
      ],
      "metadata": {
        "id": "5gzCO_O-L9KX"
      },
      "execution_count": null,
      "outputs": []
    },
    {
      "cell_type": "code",
      "source": [
        "display('apple')"
      ],
      "metadata": {
        "colab": {
          "base_uri": "https://localhost:8080/"
        },
        "id": "r8_8S64bN0OX",
        "outputId": "511d6a1f-50f6-4e88-eba1-ca03aa84b08a"
      },
      "execution_count": null,
      "outputs": [
        {
          "output_type": "execute_result",
          "data": {
            "text/plain": [
              "5"
            ]
          },
          "metadata": {},
          "execution_count": 117
        }
      ]
    },
    {
      "cell_type": "markdown",
      "source": [
        "str데이터 타입의 argument을 받는 display함수를 정의하고 특정 인덱스에 문자를 리턴하는 프로그램을 구현하세요"
      ],
      "metadata": {
        "id": "fYrX62XBN_UZ"
      }
    },
    {
      "cell_type": "code",
      "source": [
        "def display(k,i):\n",
        "  return k.index(i)\n"
      ],
      "metadata": {
        "id": "0d69dUp9OERH"
      },
      "execution_count": null,
      "outputs": []
    },
    {
      "cell_type": "code",
      "source": [
        "display('apple', 'a')"
      ],
      "metadata": {
        "colab": {
          "base_uri": "https://localhost:8080/"
        },
        "id": "ZKqeggAYOOW_",
        "outputId": "ed1e4c83-7962-47a9-b25e-fdeff45a2077"
      },
      "execution_count": null,
      "outputs": [
        {
          "output_type": "execute_result",
          "data": {
            "text/plain": [
              "0"
            ]
          },
          "metadata": {},
          "execution_count": 122
        }
      ]
    },
    {
      "cell_type": "code",
      "source": [
        "def display(k,i):\n",
        "  return k.index(i)\n"
      ],
      "metadata": {
        "id": "A-CQOGg9OdQP"
      },
      "execution_count": null,
      "outputs": []
    },
    {
      "cell_type": "code",
      "source": [
        "display('apple', 'f')#find 찾는 값이 없으면 오류\n",
        "                     #index 찾는 값이 없으면 -1리턴"
      ],
      "metadata": {
        "colab": {
          "base_uri": "https://localhost:8080/",
          "height": 258
        },
        "id": "ipTo8vPmOemo",
        "outputId": "665abfe2-d5b6-42cd-c490-a0e4f6e1661e"
      },
      "execution_count": null,
      "outputs": [
        {
          "output_type": "error",
          "ename": "ValueError",
          "evalue": "ignored",
          "traceback": [
            "\u001b[0;31m---------------------------------------------------------------------------\u001b[0m",
            "\u001b[0;31mValueError\u001b[0m                                Traceback (most recent call last)",
            "\u001b[0;32m<ipython-input-123-b561eac5d1c5>\u001b[0m in \u001b[0;36m<cell line: 1>\u001b[0;34m()\u001b[0m\n\u001b[0;32m----> 1\u001b[0;31m \u001b[0mdisplay\u001b[0m\u001b[0;34m(\u001b[0m\u001b[0;34m'apple'\u001b[0m\u001b[0;34m,\u001b[0m \u001b[0;34m'f'\u001b[0m\u001b[0;34m)\u001b[0m\u001b[0;34m\u001b[0m\u001b[0;34m\u001b[0m\u001b[0m\n\u001b[0m",
            "\u001b[0;32m<ipython-input-121-1534dcfd98df>\u001b[0m in \u001b[0;36mdisplay\u001b[0;34m(k, i)\u001b[0m\n\u001b[1;32m      1\u001b[0m \u001b[0;32mdef\u001b[0m \u001b[0mdisplay\u001b[0m\u001b[0;34m(\u001b[0m\u001b[0mk\u001b[0m\u001b[0;34m,\u001b[0m\u001b[0mi\u001b[0m\u001b[0;34m)\u001b[0m\u001b[0;34m:\u001b[0m\u001b[0;34m\u001b[0m\u001b[0;34m\u001b[0m\u001b[0m\n\u001b[0;32m----> 2\u001b[0;31m   \u001b[0;32mreturn\u001b[0m \u001b[0mk\u001b[0m\u001b[0;34m.\u001b[0m\u001b[0mindex\u001b[0m\u001b[0;34m(\u001b[0m\u001b[0mi\u001b[0m\u001b[0;34m)\u001b[0m\u001b[0;34m\u001b[0m\u001b[0;34m\u001b[0m\u001b[0m\n\u001b[0m",
            "\u001b[0;31mValueError\u001b[0m: substring not found"
          ]
        }
      ]
    },
    {
      "cell_type": "markdown",
      "source": [
        "특정년도의 윤년이면 True, 평년이면 False를 구해서 리턴하는 프로그램을 구현하세요."
      ],
      "metadata": {
        "id": "wmYNGnmQO2SI"
      }
    },
    {
      "cell_type": "code",
      "source": [
        "def isLeapYear(year):\n",
        "  if (year % 4 ==0 and year % 100 !=0) or year % 4 == 0:\n",
        "    return True\n",
        "  else:\n",
        "    return False"
      ],
      "metadata": {
        "id": "5eN4RvamPBy-"
      },
      "execution_count": null,
      "outputs": []
    },
    {
      "cell_type": "code",
      "source": [
        "year = 2016\n",
        "if isLeapYear(year):\n",
        "  print('{}년도는 {}입니다.'.format(year, '윤년'))\n",
        "else:\n",
        "  print('{}년도는 {}입니다.'.format(year, '평년'))"
      ],
      "metadata": {
        "colab": {
          "base_uri": "https://localhost:8080/"
        },
        "id": "663z0BFJPoDP",
        "outputId": "5f05128a-4065-443b-bb3f-810c0cfe6142"
      },
      "execution_count": null,
      "outputs": [
        {
          "output_type": "stream",
          "name": "stdout",
          "text": [
            "2016년도는 윤년입니다.\n"
          ]
        }
      ]
    },
    {
      "cell_type": "code",
      "source": [
        "year = 2017\n",
        "if isLeapYear(year):\n",
        "  print('{}년도는 {}입니다.'.format(year, '윤년'))\n",
        "else:\n",
        "  print('{}년도는 {}입니다.'.format(year, '평년'))"
      ],
      "metadata": {
        "colab": {
          "base_uri": "https://localhost:8080/"
        },
        "id": "kAGsgznMQcT-",
        "outputId": "689f6746-cc99-4529-9a73-c4112952be3c"
      },
      "execution_count": null,
      "outputs": [
        {
          "output_type": "stream",
          "name": "stdout",
          "text": [
            "2017년도는 평년입니다.\n"
          ]
        }
      ]
    },
    {
      "cell_type": "code",
      "source": [
        "def resultYear(b):#기존의 논리값을 받았으니까 또 논리값을 받아야한다\n",
        "  if b : #함수를 받을때 뭘받아야하는지 몇개를 받아야하는지 확인\n",
        "    print('{}년도는 {}입니다.'.format(year, '윤년'))\n",
        "  else:\n",
        "    print('{}년도는 {}입니다.'.format(year, '평년'))"
      ],
      "metadata": {
        "id": "PlNxvjNwQd0u"
      },
      "execution_count": null,
      "outputs": []
    },
    {
      "cell_type": "code",
      "source": [
        "year = 2017\n",
        "checkYear = isLeapYear(year)\n",
        "resultYear(checkYear)"
      ],
      "metadata": {
        "colab": {
          "base_uri": "https://localhost:8080/"
        },
        "id": "1dm1Rj4VQ893",
        "outputId": "af739041-0044-4168-bcb3-9204be9ae470"
      },
      "execution_count": null,
      "outputs": [
        {
          "output_type": "stream",
          "name": "stdout",
          "text": [
            "2017년도는 평년입니다.\n"
          ]
        }
      ]
    },
    {
      "cell_type": "markdown",
      "source": [
        "2개의 요소가 저장된 list 데이터 타입의 reverse하는 함수를 구현하세요."
      ],
      "metadata": {
        "id": "-KvIo3YkSKTa"
      }
    },
    {
      "cell_type": "code",
      "source": [
        "def swap(data):\n",
        "  a, b=data\n",
        "  return [b, a]#unpacking해서 리턴해준다\n",
        "               #unpacking 기존의 포장을 풀고 이름을 추가해주는 방법"
      ],
      "metadata": {
        "id": "OPtOpjTVRlKO"
      },
      "execution_count": null,
      "outputs": []
    },
    {
      "cell_type": "code",
      "source": [
        "swap([1,3])"
      ],
      "metadata": {
        "colab": {
          "base_uri": "https://localhost:8080/"
        },
        "id": "c3XSX48XTBvS",
        "outputId": "1ad79f36-5a9c-45ab-96a5-766998ed425b"
      },
      "execution_count": null,
      "outputs": [
        {
          "output_type": "execute_result",
          "data": {
            "text/plain": [
              "[3, 1]"
            ]
          },
          "metadata": {},
          "execution_count": 144
        }
      ]
    },
    {
      "cell_type": "code",
      "source": [
        "for k in swap([1,3]):\n",
        "  print(k, end=' ')"
      ],
      "metadata": {
        "colab": {
          "base_uri": "https://localhost:8080/"
        },
        "id": "vvyj9UJAUFRG",
        "outputId": "41f29e16-2a38-4557-a234-b26df9ab0370"
      },
      "execution_count": null,
      "outputs": [
        {
          "output_type": "stream",
          "name": "stdout",
          "text": [
            "3 1 "
          ]
        }
      ]
    },
    {
      "cell_type": "code",
      "source": [
        "def swap(data):\n",
        "   return [ i for i in reversed(data)]#reversed-함수가 사용된후 a의 기존값을 원할때"
      ],
      "metadata": {
        "id": "REpRyfgPWACd"
      },
      "execution_count": null,
      "outputs": []
    },
    {
      "cell_type": "code",
      "source": [
        "a = [1,3,4,5,6]\n",
        "print(swap(a))\n",
        "print('변경후:',a)"
      ],
      "metadata": {
        "colab": {
          "base_uri": "https://localhost:8080/"
        },
        "id": "Dsgd8DYnWC6e",
        "outputId": "25a4faac-2b72-4e4d-d110-1077fcdc54ee"
      },
      "execution_count": null,
      "outputs": [
        {
          "output_type": "stream",
          "name": "stdout",
          "text": [
            "[6, 5, 4, 3, 1]\n",
            "변경후: [1, 3, 4, 5, 6]\n"
          ]
        }
      ]
    },
    {
      "cell_type": "code",
      "source": [
        "def swap(data):\n",
        "   #return [ i for i in reversed(data)]#reverse=list에서만 사용가능\n",
        "    data.reverse()\n",
        "    return data    #reverse-함수가 사용된후 a의 기존값도 새로운값으로 변하길 원할때"
      ],
      "metadata": {
        "id": "sFvJxWprT_L2"
      },
      "execution_count": null,
      "outputs": []
    },
    {
      "cell_type": "code",
      "source": [
        "a = [1,3,4,5,6]\n",
        "print(swap(a))\n",
        "print('변경후:',a)"
      ],
      "metadata": {
        "colab": {
          "base_uri": "https://localhost:8080/"
        },
        "id": "viMYCTb2U9de",
        "outputId": "0deca2ba-b20b-4047-ab6e-69216c367d25"
      },
      "execution_count": null,
      "outputs": [
        {
          "output_type": "stream",
          "name": "stdout",
          "text": [
            "[6, 5, 4, 3, 1]\n",
            "변경후: [6, 5, 4, 3, 1]\n"
          ]
        }
      ]
    },
    {
      "cell_type": "markdown",
      "source": [
        "대문자는 소문자로. 소문자는 대문자로 나머지는 그대로 해서 반환하는 프로그램을 구현하세요."
      ],
      "metadata": {
        "id": "lrR8ib9XomFU"
      }
    },
    {
      "cell_type": "code",
      "source": [
        "item = 1#Error: '>=' not supported between instances of 'int' and 'str'문자와 숫자가 연동x\n",
        "item >= 'A' and item <= 'Z'"
      ],
      "metadata": {
        "colab": {
          "base_uri": "https://localhost:8080/",
          "height": 203
        },
        "id": "TuO7-nOdpmDU",
        "outputId": "b57762e5-45e9-4634-f4a5-b3f9c0fc7354"
      },
      "execution_count": null,
      "outputs": [
        {
          "output_type": "error",
          "ename": "TypeError",
          "evalue": "ignored",
          "traceback": [
            "\u001b[0;31m---------------------------------------------------------------------------\u001b[0m",
            "\u001b[0;31mTypeError\u001b[0m                                 Traceback (most recent call last)",
            "\u001b[0;32m<ipython-input-167-86e7d47828d7>\u001b[0m in \u001b[0;36m<cell line: 2>\u001b[0;34m()\u001b[0m\n\u001b[1;32m      1\u001b[0m \u001b[0mitem\u001b[0m \u001b[0;34m=\u001b[0m \u001b[0;36m1\u001b[0m\u001b[0;34m\u001b[0m\u001b[0;34m\u001b[0m\u001b[0m\n\u001b[0;32m----> 2\u001b[0;31m \u001b[0mitem\u001b[0m \u001b[0;34m>=\u001b[0m \u001b[0;34m'A'\u001b[0m \u001b[0;32mand\u001b[0m \u001b[0mitem\u001b[0m \u001b[0;34m<=\u001b[0m \u001b[0;34m'Z'\u001b[0m\u001b[0;34m\u001b[0m\u001b[0;34m\u001b[0m\u001b[0m\n\u001b[0m",
            "\u001b[0;31mTypeError\u001b[0m: '>=' not supported between instances of 'int' and 'str'"
          ]
        }
      ]
    },
    {
      "cell_type": "code",
      "source": [
        "print(chr(97))#chr문자를 숫자로 바꿔줌\n",
        "print(ord('a'))#ord숫자를 문자로 바꿔줌\n",
        "print(ord('a')-32)\n",
        "print(chr(65))\n",
        "print(str(True))"
      ],
      "metadata": {
        "colab": {
          "base_uri": "https://localhost:8080/"
        },
        "id": "U8RZO7kyqkFy",
        "outputId": "5c768962-6113-408e-98f1-b5a4700fe756"
      },
      "execution_count": null,
      "outputs": [
        {
          "output_type": "stream",
          "name": "stdout",
          "text": [
            "a\n",
            "97\n",
            "65\n",
            "A\n",
            "True\n"
          ]
        }
      ]
    },
    {
      "cell_type": "code",
      "source": [
        "print(int(False))\n",
        "print(int(True))\n",
        "print(type(True))"
      ],
      "metadata": {
        "colab": {
          "base_uri": "https://localhost:8080/"
        },
        "id": "VS7sF2kKu989",
        "outputId": "999df0e4-ac9d-424e-af2d-7ce1d89ac20d"
      },
      "execution_count": null,
      "outputs": [
        {
          "output_type": "stream",
          "name": "stdout",
          "text": [
            "0\n",
            "1\n",
            "<class 'bool'>\n"
          ]
        }
      ]
    },
    {
      "cell_type": "code",
      "source": [
        "\n",
        "def process( arg ):\n",
        "  data = []\n",
        "  for item in arg:\n",
        "    rs = str(item)\n",
        "    print(rs)\n",
        "    if rs >= 'A' and rs <= 'Z':\n",
        "      data.append(chr(ord(item) - 32))\n",
        "    elif rs>='a' and rs <='z':\n",
        "      data.append(chr(ord(item) + 32))\n",
        "    else:\n",
        "      data.append(item)"
      ],
      "metadata": {
        "id": "eujbFyjqoxPk"
      },
      "execution_count": null,
      "outputs": []
    },
    {
      "cell_type": "code",
      "source": [
        "process(['p', 'y', 'T', 1, '_',])"
      ],
      "metadata": {
        "colab": {
          "base_uri": "https://localhost:8080/"
        },
        "id": "e7BhFPg2o4Y1",
        "outputId": "def7fc9a-52d7-4c44-800a-5f8e3736af24"
      },
      "execution_count": null,
      "outputs": [
        {
          "output_type": "stream",
          "name": "stdout",
          "text": [
            "p\n",
            "y\n",
            "T\n",
            "1\n",
            "_\n"
          ]
        }
      ]
    },
    {
      "cell_type": "code",
      "source": [
        "a = [1,2,3]\n",
        "for i in a:\n",
        "  if i%2==0:\n",
        "    continue\n",
        "  print(i)"
      ],
      "metadata": {
        "colab": {
          "base_uri": "https://localhost:8080/"
        },
        "id": "9rWIDPUa31p7",
        "outputId": "e5b9189a-18d7-4dc8-a386-4734564cb8b9"
      },
      "execution_count": null,
      "outputs": [
        {
          "output_type": "stream",
          "name": "stdout",
          "text": [
            "1\n",
            "3\n"
          ]
        }
      ]
    },
    {
      "cell_type": "code",
      "source": [
        "def process( arg ):#['p', 'y', 'T', 1, '_',True]\n",
        "  data = []\n",
        "  i = -1\n",
        "  while i < len(arg)-1:\n",
        "    i = i + 1\n",
        "    #if (type(arg[i]) == bool) or (type(arg[i]) == int):\n",
        "    if type(arg[i]) != str:\n",
        "      data.append(arg[i])\n",
        "      continue\n",
        "\n",
        "    if arg[i] >= 'A' and arg[i] <= 'Z':\n",
        "      data.append(chr(ord(arg[i]) + 32)) # A (65) a(97)\n",
        "    elif arg[i]>='a' and arg[i] <='z':\n",
        "      data.append(chr(ord(arg[i]) - 32))\n",
        "    else:\n",
        "      data.append(arg[i])\n",
        "\n",
        "  return data\n",
        "\n",
        "      #a.b.c -> a b c\n",
        "      #a(b(c()))->c b a"
      ],
      "metadata": {
        "id": "uufecVQkvxDk"
      },
      "execution_count": null,
      "outputs": []
    },
    {
      "cell_type": "code",
      "source": [
        "process(['p', 'y', 'T', 1, '_',True])"
      ],
      "metadata": {
        "colab": {
          "base_uri": "https://localhost:8080/"
        },
        "id": "niY2BfCaw2lO",
        "outputId": "86aaffa0-28eb-4c0d-accb-d7629ae70622"
      },
      "execution_count": null,
      "outputs": [
        {
          "output_type": "execute_result",
          "data": {
            "text/plain": [
              "['P', 'Y', 't', 1, '_', True]"
            ]
          },
          "metadata": {},
          "execution_count": 219
        }
      ]
    },
    {
      "cell_type": "code",
      "source": [
        "def process( arg ):#['p', 'y', 'T', 1, '_',True]\n",
        "  data = []\n",
        "  i = -1\n",
        "  while i < len(arg)-1:\n",
        "    i = i + 1\n",
        "    if type(arg[i]) != str:\n",
        "      data.append(arg[i])\n",
        "      continue\n",
        "\n",
        "      if arg[i].isupper():\n",
        "        data.append(arg[i].lower())# A (65) a(97)\n",
        "      elif arg[i].islower():\n",
        "        data.append(arg[i].upper())\n",
        "    else:\n",
        "      data.append(arg[i])\n",
        "\n",
        "  return data"
      ],
      "metadata": {
        "id": "_PFjH5PH8KAz"
      },
      "execution_count": null,
      "outputs": []
    },
    {
      "cell_type": "code",
      "source": [
        "process(['p', 'y', 'T', 1, '_',True])"
      ],
      "metadata": {
        "colab": {
          "base_uri": "https://localhost:8080/"
        },
        "id": "wxtJti_P8LN2",
        "outputId": "ac2a02df-6956-4045-d910-b1098459f545"
      },
      "execution_count": null,
      "outputs": [
        {
          "output_type": "execute_result",
          "data": {
            "text/plain": [
              "['p', 'y', 'T', 1, '_', True]"
            ]
          },
          "metadata": {},
          "execution_count": 226
        }
      ]
    },
    {
      "cell_type": "code",
      "source": [
        "def process(arg):\n",
        "  s=[]\n",
        "  for item in arg:\n",
        "    if type(item)==str:\n",
        "      if item.isupper():\n",
        "        s.append(item.lower())\n",
        "      elif item.islower():\n",
        "        s.append(item.upper())\n",
        "      else:\n",
        "        s.append(item)\n",
        "    else:\n",
        "        s.append(item)\n",
        "  print(s)"
      ],
      "metadata": {
        "id": "LsWRIKaHCxw0"
      },
      "execution_count": null,
      "outputs": []
    },
    {
      "cell_type": "code",
      "source": [
        "process(['p', 'y', 'T', 1, '_',True])"
      ],
      "metadata": {
        "colab": {
          "base_uri": "https://localhost:8080/"
        },
        "id": "RbzdnIaSC0yw",
        "outputId": "91251cdb-7d3a-47e3-b341-1b414d8c2292"
      },
      "execution_count": null,
      "outputs": [
        {
          "output_type": "execute_result",
          "data": {
            "text/plain": [
              "['p', 'y', 'T', 1, '_', True]"
            ]
          },
          "metadata": {},
          "execution_count": 227
        }
      ]
    },
    {
      "cell_type": "markdown",
      "source": [
        "데이터에서 'a' 는 '_'로, 's'는 '@'로 변경해서 리턴하는 프로그램을 구현하세요."
      ],
      "metadata": {
        "id": "HXbjsHwfEKrk"
      }
    },
    {
      "cell_type": "code",
      "source": [
        "def passToken(arg):\n",
        "  data = []\n",
        "  for item in arg:\n",
        "    if item == 'a':\n",
        "      data.append('_')\n",
        "    elif item == 's':\n",
        "      data.append('@')\n",
        "    else:\n",
        "      data.append(item)\n",
        "\n",
        "  return ''.join(data)#tuple,list를 tuple로 바꿀때\n"
      ],
      "metadata": {
        "id": "1TVqmeokED75"
      },
      "execution_count": null,
      "outputs": []
    },
    {
      "cell_type": "code",
      "source": [
        "passToken('address') # _ddre@@"
      ],
      "metadata": {
        "colab": {
          "base_uri": "https://localhost:8080/",
          "height": 35
        },
        "id": "dh0vduPQEooZ",
        "outputId": "1bddea0c-2edf-477f-da32-f7efde7c3418"
      },
      "execution_count": null,
      "outputs": [
        {
          "output_type": "execute_result",
          "data": {
            "text/plain": [
              "'_ddre@@'"
            ],
            "application/vnd.google.colaboratory.intrinsic+json": {
              "type": "string"
            }
          },
          "metadata": {},
          "execution_count": 242
        }
      ]
    },
    {
      "cell_type": "markdown",
      "source": [
        "python은 외부에서 함수내부로 접근할 수 없다."
      ],
      "metadata": {
        "id": "xa6P8UtWIOuX"
      }
    },
    {
      "cell_type": "code",
      "source": [
        "def proc():\n",
        "  z = 1"
      ],
      "metadata": {
        "id": "UewQGpGmGm4Z"
      },
      "execution_count": null,
      "outputs": []
    },
    {
      "cell_type": "code",
      "source": [
        "# z는 함수 내에서 할당되었으므로 함수 밖에서 호출할 수 없다.\n",
        "z"
      ],
      "metadata": {
        "id": "OF26_UH8IWNZ"
      },
      "execution_count": null,
      "outputs": []
    },
    {
      "cell_type": "markdown",
      "source": [
        "함수 내부에서 외부에 접근할 수 있다."
      ],
      "metadata": {
        "id": "zzH7ejj0I8b4"
      }
    },
    {
      "cell_type": "code",
      "source": [
        "c = 10 #전역변수\n",
        "def display():\n",
        "  print(c)"
      ],
      "metadata": {
        "id": "txnRyPL1InKl"
      },
      "execution_count": null,
      "outputs": []
    },
    {
      "cell_type": "code",
      "source": [
        "display()"
      ],
      "metadata": {
        "colab": {
          "base_uri": "https://localhost:8080/"
        },
        "id": "XCFx17dhIy4Q",
        "outputId": "c02e5a22-4bac-4a4f-f3c0-471d1705e385"
      },
      "execution_count": null,
      "outputs": [
        {
          "output_type": "stream",
          "name": "stdout",
          "text": [
            "10\n"
          ]
        }
      ]
    },
    {
      "cell_type": "markdown",
      "source": [
        "함수에서 외부의 값은 접근할 수 있지만 변경은 할수 없다"
      ],
      "metadata": {
        "id": "3-zN1c8gJstI"
      }
    },
    {
      "cell_type": "code",
      "source": [
        "t = 3\n",
        "def prn( ):\n",
        "  t = t + 1\n",
        "  print(t)"
      ],
      "metadata": {
        "id": "mu3-naN_I6RJ"
      },
      "execution_count": null,
      "outputs": []
    },
    {
      "cell_type": "code",
      "source": [
        "prn()"
      ],
      "metadata": {
        "colab": {
          "base_uri": "https://localhost:8080/"
        },
        "id": "V_W0PUHvJH-Y",
        "outputId": "3ec8f7f8-15a0-4dcc-d98e-1bb4dd2e9f35"
      },
      "execution_count": null,
      "outputs": [
        {
          "output_type": "stream",
          "name": "stdout",
          "text": [
            "4\n"
          ]
        }
      ]
    },
    {
      "cell_type": "markdown",
      "source": [
        "global은 내부와 외부의 객체를 동기화(sync)시켜준다.\n",
        "global은 사용하기는 편하지만 언제 바뀌었는지 흐름을 파악하기 힘들기 때문에 남용은 하지 않는다."
      ],
      "metadata": {
        "id": "Id0jD8E1KMJI"
      }
    },
    {
      "cell_type": "code",
      "source": [
        "t = 3\n",
        "def prn( ):\n",
        "  global t\n",
        "  t = t + 1\n",
        "  print(t)"
      ],
      "metadata": {
        "id": "bFNP4dy0J7tg"
      },
      "execution_count": null,
      "outputs": []
    },
    {
      "cell_type": "code",
      "source": [
        "prn()"
      ],
      "metadata": {
        "colab": {
          "base_uri": "https://localhost:8080/"
        },
        "id": "oy3lDQxJKCTJ",
        "outputId": "e08f820f-d8e0-4cdf-fae8-02c1db59c7b8"
      },
      "execution_count": null,
      "outputs": [
        {
          "output_type": "stream",
          "name": "stdout",
          "text": [
            "5\n"
          ]
        }
      ]
    },
    {
      "cell_type": "code",
      "source": [
        "#외부의 자원도 값이 변경이 되어서 출력이 된다.객체값 자체가 변한다.\n",
        "t"
      ],
      "metadata": {
        "colab": {
          "base_uri": "https://localhost:8080/"
        },
        "id": "6gTf_rzMKfj7",
        "outputId": "8fffad96-b9ff-43fc-8157-f102efbce370"
      },
      "execution_count": null,
      "outputs": [
        {
          "output_type": "execute_result",
          "data": {
            "text/plain": [
              "4"
            ]
          },
          "metadata": {},
          "execution_count": 260
        }
      ]
    },
    {
      "cell_type": "markdown",
      "source": [
        "외부 함수의 자원을 내부 함수에서 참조할때는 nonlocal을 사용한다."
      ],
      "metadata": {
        "id": "O78cc2POMJFp"
      }
    },
    {
      "cell_type": "code",
      "source": [
        "k = 1\n",
        "\n",
        "def outer():\n",
        "  m = 1\n",
        "  def inner():#함수두개이므로 외부와 내부를 합치려면 쓰는곳에 global\n",
        "    global k\n",
        "    k = k + 1\n",
        "    nonlocal m#내부함수를 외부로 nonlocal 외부함수를 내부로 global\n",
        "    m = m + 1\n",
        "    return  k, m\n",
        "  return inner()"
      ],
      "metadata": {
        "id": "2Wpgb7OqKwtt"
      },
      "execution_count": null,
      "outputs": []
    },
    {
      "cell_type": "code",
      "source": [
        "outer()"
      ],
      "metadata": {
        "colab": {
          "base_uri": "https://localhost:8080/"
        },
        "id": "_GYvaSP9LFyi",
        "outputId": "c377d90a-9b84-4202-ecf5-694f632a740f"
      },
      "execution_count": null,
      "outputs": [
        {
          "output_type": "execute_result",
          "data": {
            "text/plain": [
              "(2, 2)"
            ]
          },
          "metadata": {},
          "execution_count": 268
        }
      ]
    },
    {
      "cell_type": "code",
      "source": [
        "def add(a,b):\n",
        "  return a + b"
      ],
      "metadata": {
        "id": "8xzSP9TeMbZ9"
      },
      "execution_count": null,
      "outputs": []
    },
    {
      "cell_type": "code",
      "source": [
        "add(3,4)"
      ],
      "metadata": {
        "colab": {
          "base_uri": "https://localhost:8080/"
        },
        "id": "Tq1C-DVAMoR1",
        "outputId": "99cb38f2-53ba-4060-9f2e-9b13160c64a8"
      },
      "execution_count": null,
      "outputs": [
        {
          "output_type": "execute_result",
          "data": {
            "text/plain": [
              "7"
            ]
          },
          "metadata": {},
          "execution_count": 270
        }
      ]
    },
    {
      "cell_type": "markdown",
      "source": [
        "## lambda\n",
        "- python에서는 익명함수를 정의할 때 lambda키워드를 사용한다.\n",
        "- 간결하게 함수를 표현하거나 def를 정의할 수 없는 경우에 이용한다."
      ],
      "metadata": {
        "id": "LNaqgEvKMw3f"
      }
    },
    {
      "cell_type": "code",
      "source": [
        "add = lambda a, b : a + b#접근을 위해 변수 선언"
      ],
      "metadata": {
        "id": "3sPVbgxIM7YZ"
      },
      "execution_count": null,
      "outputs": []
    },
    {
      "cell_type": "code",
      "source": [
        "type(add)"
      ],
      "metadata": {
        "colab": {
          "base_uri": "https://localhost:8080/"
        },
        "id": "H3sPIvotNP_D",
        "outputId": "964bf7ce-e72e-4db1-9bd8-7bc8e87b096c"
      },
      "execution_count": null,
      "outputs": [
        {
          "output_type": "execute_result",
          "data": {
            "text/plain": [
              "function"
            ]
          },
          "metadata": {},
          "execution_count": 275
        }
      ]
    },
    {
      "cell_type": "code",
      "source": [
        "add.__name__"
      ],
      "metadata": {
        "colab": {
          "base_uri": "https://localhost:8080/",
          "height": 35
        },
        "id": "LzJCqfW3NR-5",
        "outputId": "2ff50766-fddb-45fc-f95b-157a3338add4"
      },
      "execution_count": null,
      "outputs": [
        {
          "output_type": "execute_result",
          "data": {
            "text/plain": [
              "'<lambda>'"
            ],
            "application/vnd.google.colaboratory.intrinsic+json": {
              "type": "string"
            }
          },
          "metadata": {},
          "execution_count": 276
        }
      ]
    },
    {
      "cell_type": "code",
      "source": [
        "add(3, 4)"
      ],
      "metadata": {
        "colab": {
          "base_uri": "https://localhost:8080/"
        },
        "id": "tAOLvSgaNZSK",
        "outputId": "5f1d959d-88df-4be6-f575-ee83a5b4b109"
      },
      "execution_count": null,
      "outputs": [
        {
          "output_type": "execute_result",
          "data": {
            "text/plain": [
              "7"
            ]
          },
          "metadata": {},
          "execution_count": 277
        }
      ]
    },
    {
      "cell_type": "markdown",
      "source": [
        "[문제1]  \n",
        "문자열 하나를 입력받아 인터넷 주소를 반환하는 make_url 함수를 정의하세요.    \n",
        "make_url(\"naver\")  \n",
        "\n",
        "[출력결과]    \n",
        "www.naver.com  \n"
      ],
      "metadata": {
        "id": "iOpIxl5EQbTR"
      }
    },
    {
      "cell_type": "code",
      "source": [
        "def make_url(oddd):\n",
        "  url = 'www.' + url + '.com'\n",
        "  return url"
      ],
      "metadata": {
        "id": "H7tzdXYFagAG"
      },
      "execution_count": null,
      "outputs": []
    },
    {
      "cell_type": "code",
      "source": [
        "make_url('naver')"
      ],
      "metadata": {
        "colab": {
          "base_uri": "https://localhost:8080/",
          "height": 35
        },
        "id": "-p7_mprRa2tY",
        "outputId": "b40aac62-a9a4-4fa9-925d-a18cddb28a26"
      },
      "execution_count": null,
      "outputs": [
        {
          "output_type": "execute_result",
          "data": {
            "text/plain": [
              "'www.naver.com'"
            ],
            "application/vnd.google.colaboratory.intrinsic+json": {
              "type": "string"
            }
          },
          "metadata": {},
          "execution_count": 359
        }
      ]
    },
    {
      "cell_type": "markdown",
      "source": [
        "[문제2]   \n",
        "문자열을 입력받아 각 문자들로 구성된 리스트로 반환하는 make_list 함수를 정의하세요.  \n",
        "make_list(\"abcd\")  \n",
        "\n",
        "[출력결과]\n",
        "\n",
        "['a', 'b', 'c', 'd']"
      ],
      "metadata": {
        "id": "mzFpmJ-JQc2p"
      }
    },
    {
      "cell_type": "code",
      "source": [
        "def make_list(x,y):\n",
        "\n",
        "   return result"
      ],
      "metadata": {
        "id": "Rne3jU3dVYUf"
      },
      "execution_count": null,
      "outputs": []
    },
    {
      "cell_type": "code",
      "source": [
        "make_list(\"abcd\")"
      ],
      "metadata": {
        "colab": {
          "base_uri": "https://localhost:8080/",
          "height": 184
        },
        "id": "cbIUNrMQVZWk",
        "outputId": "6ddc2e64-5a4e-4d2f-b1bc-18eec8ca861f"
      },
      "execution_count": null,
      "outputs": [
        {
          "output_type": "error",
          "ename": "TypeError",
          "evalue": "ignored",
          "traceback": [
            "\u001b[0;31m---------------------------------------------------------------------------\u001b[0m",
            "\u001b[0;31mTypeError\u001b[0m                                 Traceback (most recent call last)",
            "\u001b[0;32m<ipython-input-7-4d28122e1510>\u001b[0m in \u001b[0;36m<cell line: 1>\u001b[0;34m()\u001b[0m\n\u001b[0;32m----> 1\u001b[0;31m \u001b[0mmake_list\u001b[0m\u001b[0;34m(\u001b[0m\u001b[0;34m\"abcd\"\u001b[0m\u001b[0;34m)\u001b[0m\u001b[0;34m\u001b[0m\u001b[0;34m\u001b[0m\u001b[0m\n\u001b[0m",
            "\u001b[0;31mTypeError\u001b[0m: make_list() missing 1 required positional argument: 'y'"
          ]
        }
      ]
    },
    {
      "cell_type": "code",
      "source": [
        "def make_list(uu):#make_list라고 입력하면 나오는 함수 uu를 만들겠다\n",
        "   my_list = [] #리턴되어오는 값을 리스트안으로 넣겠다\n",
        "   for i in uu:\n",
        "     my_list.append(uu)#uu의 리스트값을 하나하나 my_list라는 리스트에 넣겠다\n",
        "   return my_list #my_list를 반복한다"
      ],
      "metadata": {
        "id": "o2ZLQVHdRwz0"
      },
      "execution_count": null,
      "outputs": []
    },
    {
      "cell_type": "code",
      "source": [
        "make_list(\"abcd\")"
      ],
      "metadata": {
        "colab": {
          "base_uri": "https://localhost:8080/"
        },
        "id": "qMjnPjtAQ2jx",
        "outputId": "adb0321b-279b-4fd3-e94f-210205d999b2"
      },
      "execution_count": null,
      "outputs": [
        {
          "output_type": "execute_result",
          "data": {
            "text/plain": [
              "['abcd', 'abcd', 'abcd', 'abcd']"
            ]
          },
          "metadata": {},
          "execution_count": 351
        }
      ]
    },
    {
      "cell_type": "markdown",
      "source": [
        "[문제3]   \n",
        "숫자로 구성된 하나의 리스트를 입력받아, 짝수들을 추출하여 리스트로 반환하는 pickup_even 함수를 구현하세요.   \n",
        "\n",
        "pickup_even([3, 4, 5, 6, 7, 8])\n",
        "\n",
        "[출력결과]   \n",
        "[4, 6, 8]"
      ],
      "metadata": {
        "id": "bHCF0TQVQe8b"
      }
    },
    {
      "cell_type": "code",
      "source": [
        "def pickup_even(pick):\n",
        "  ab = []\n",
        "  for i in pick:\n",
        "    if i%2 == 0 :\n",
        "     ab.append(i)\n",
        "  return ab#ab의 값으로 내려간다\n"
      ],
      "metadata": {
        "id": "J58gLYYQlo72"
      },
      "execution_count": null,
      "outputs": []
    },
    {
      "cell_type": "code",
      "source": [
        "pickup_even([3, 4, 5, 6, 7, 8])"
      ],
      "metadata": {
        "colab": {
          "base_uri": "https://localhost:8080/"
        },
        "id": "r7lye3spljat",
        "outputId": "548580c8-acad-43b4-b0da-026a6f2223eb"
      },
      "execution_count": null,
      "outputs": [
        {
          "output_type": "execute_result",
          "data": {
            "text/plain": [
              "[4, 6, 8]"
            ]
          },
          "metadata": {},
          "execution_count": 44
        }
      ]
    },
    {
      "cell_type": "markdown",
      "source": [
        "[문제4]  \n",
        "콤마가 포함된 문자열 숫자를 입력받아 정수로 변환하는 convert_int 함수를 정의하세요.\n",
        "\n",
        "convert_int(\"1,234,567\")\n",
        "\n",
        "[출력결과]   \n",
        "1234567"
      ],
      "metadata": {
        "id": "NoNGp07EQg-J"
      }
    },
    {
      "cell_type": "markdown",
      "source": [
        "[문제5]  \n",
        "세 개의 숫자를 입력받아 가장 큰수를 출력하는 print_max 함수를 정의하라. 단 if 문을 사용해서 수를 비교하세요.   \n",
        "max(10, 2, 5)\n",
        "\n",
        "[출력결과]  \n",
        "10"
      ],
      "metadata": {
        "id": "6YIKXBEwQi9B"
      }
    },
    {
      "cell_type": "code",
      "source": [
        "def max (a,b,c):\n",
        "  max_val=0\n",
        "  for i in data:\n",
        "   if a > max_val:\n"
      ],
      "metadata": {
        "colab": {
          "base_uri": "https://localhost:8080/",
          "height": 147
        },
        "id": "lsCH6cZmsO3Z",
        "outputId": "b8f7de76-e556-4c14-bb2a-13946305216e"
      },
      "execution_count": null,
      "outputs": [
        {
          "output_type": "error",
          "ename": "IndentationError",
          "evalue": "ignored",
          "traceback": [
            "\u001b[0;36m  File \u001b[0;32m\"<ipython-input-2-5226b102aa10>\"\u001b[0;36m, line \u001b[0;32m3\u001b[0m\n\u001b[0;31m    data = input()\u001b[0m\n\u001b[0m    ^\u001b[0m\n\u001b[0;31mIndentationError\u001b[0m\u001b[0;31m:\u001b[0m expected an indented block after 'for' statement on line 2\n"
          ]
        }
      ]
    },
    {
      "cell_type": "code",
      "source": [
        "max(10, 2, 5)"
      ],
      "metadata": {
        "id": "QgClWHC4sRLG"
      },
      "execution_count": null,
      "outputs": []
    },
    {
      "cell_type": "markdown",
      "source": [
        "[문제6]    \n",
        "2 와 5의 배수가 아닌 갯수와 합계를 구하는 함수를 구현하세요.    \n",
        "\n",
        "resultr(1, 3, 5, 8, 9, 11, 15, 19, 18, 20, 30, 33, 31)  \n",
        "\n",
        "[출력결과]    \n",
        "2 와 5의 배수가 아닌 갯수 : 7    \n",
        "2 와 5의 배수가 아닌 합계 : 107   \n",
        "\n",
        "==============================================  \n",
        "result(5,2,7,9,10,8,6)     \n",
        "\n",
        "[출력결과]    \n",
        "2 와 5의 배수가 아닌 갯수 :  2\n",
        "2 와 5의 배수가 아닌 합계 :  16"
      ],
      "metadata": {
        "id": "B6u_CgWZQlKq"
      }
    },
    {
      "cell_type": "code",
      "source": [
        "\n",
        "def result(*data):\n",
        "  cnt = 0\n",
        "  total = 0\n",
        "\n",
        "  for i in data:\n",
        "      if i % 2 != 0 and i % 5 != 0:\n",
        "          cnt +=  1\n",
        "          total += i\n",
        "\n",
        "\n",
        "\n",
        "  print(\"2 와 5의 배수가 아닌 갯수 : \", cnt)\n",
        "  print(\"2 와 5의 배수가 아닌 합계 : \", total)\n",
        "\n",
        "\n",
        "\n"
      ],
      "metadata": {
        "id": "NKxjbj8lsJhL"
      },
      "execution_count": null,
      "outputs": []
    },
    {
      "cell_type": "code",
      "source": [
        "def result(*data):\n",
        "    cnt = 0\n",
        "    total = 0\n",
        "\n",
        "    for i in data:\n",
        "        if i % 2 != 0 and i % 5 != 0:\n",
        "            cnt +=  1\n",
        "            total += i\n",
        "\n",
        "    print(\"2 와 5의 배수가 아닌 갯수 : \", cnt)\n",
        "    print(\"2 와 5의 배수가 아닌 합계 : \", total)"
      ],
      "metadata": {
        "id": "qIl7hPrSz4Cp"
      },
      "execution_count": null,
      "outputs": []
    },
    {
      "cell_type": "code",
      "source": [
        "result(5,2,7,9,10,8,6)"
      ],
      "metadata": {
        "colab": {
          "base_uri": "https://localhost:8080/"
        },
        "id": "L1eN3Re1sHVT",
        "outputId": "3fe06e2e-f16c-4edc-fd50-e1d2ea837875"
      },
      "execution_count": null,
      "outputs": [
        {
          "output_type": "stream",
          "name": "stdout",
          "text": [
            "2 와 5의 배수가 아닌 갯수 :  2\n",
            "2 와 5의 배수가 아닌 합계 :  16\n"
          ]
        }
      ]
    }
  ]
}